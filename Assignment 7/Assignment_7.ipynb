{
  "nbformat": 4,
  "nbformat_minor": 0,
  "metadata": {
    "colab": {
      "provenance": [],
      "machine_shape": "hm"
    },
    "kernelspec": {
      "name": "python3",
      "display_name": "Python 3"
    },
    "language_info": {
      "name": "python"
    },
    "accelerator": "GPU",
    "gpuClass": "premium"
  },
  "cells": [
    {
      "cell_type": "code",
      "execution_count": 2,
      "metadata": {
        "id": "s5Km7XcVnnpZ"
      },
      "outputs": [],
      "source": [
        "import numpy as np\n",
        "import tensorflow as tf\n",
        "from tensorflow import keras\n",
        "from tensorflow.keras.utils import to_categorical\n",
        "from tensorflow.keras.layers import Dense, Conv2D, MaxPooling2D, Flatten, Dropout, Input\n",
        "import tensorflow as tf\n",
        "from tensorflow import keras\n",
        "from tensorflow.keras import layers\n",
        "from tensorflow.keras.models import Sequential\n",
        "from sklearn.model_selection import train_test_split"
      ]
    },
    {
      "cell_type": "code",
      "source": [
        "(x_train, y_train), (x_test, y_test) = keras.datasets.cifar100.load_data(label_mode='fine')"
      ],
      "metadata": {
        "colab": {
          "base_uri": "https://localhost:8080/"
        },
        "id": "5mMjvM4Pnrug",
        "outputId": "a8199f19-44ed-4495-8fb0-6c9301f776ef"
      },
      "execution_count": 3,
      "outputs": [
        {
          "output_type": "stream",
          "name": "stdout",
          "text": [
            "Downloading data from https://www.cs.toronto.edu/~kriz/cifar-100-python.tar.gz\n",
            "169001437/169001437 [==============================] - 14s 0us/step\n"
          ]
        }
      ]
    },
    {
      "cell_type": "code",
      "source": [
        "train_x,val_x,train_y,val_y = train_test_split(x_train, y_train, train_size=0.8)"
      ],
      "metadata": {
        "id": "oIg6t3n6nv9F"
      },
      "execution_count": 4,
      "outputs": []
    },
    {
      "cell_type": "code",
      "source": [
        "from keras.utils import to_categorical\n",
        "x_train = x_train / 255.0\n",
        "x_test = x_test / 255.0\n",
        "val_x = val_x / 255.0\n",
        "train_x = train_x / 255.0\n",
        "\n",
        "y_train = to_categorical(y_train, num_classes=100)\n",
        "train_y=to_categorical(train_y,num_classes=100)\n",
        "val_y=to_categorical(val_y,num_classes=100)\n",
        "y_test=to_categorical(y_test,num_classes=100)\n"
      ],
      "metadata": {
        "id": "YH5SLtwunz9T"
      },
      "execution_count": 5,
      "outputs": []
    },
    {
      "cell_type": "markdown",
      "source": [
        "Model 1"
      ],
      "metadata": {
        "id": "r2OsVUaBoSnW"
      }
    },
    {
      "cell_type": "code",
      "source": [
        "model = Sequential([\n",
        "    Conv2D(32, (3, 3), activation='relu', input_shape=(32, 32, 3)),\n",
        "    MaxPooling2D((2, 2)),\n",
        "    Dropout(0.25),\n",
        "    Flatten(),\n",
        "    Dense(512, activation='relu'),\n",
        "    Dense(256, activation='relu'),\n",
        "    Dense(100, activation='softmax')\n",
        "])\n",
        "\n",
        "model.compile(optimizer='adam', loss='categorical_crossentropy', metrics=['accuracy'])\n",
        "\n",
        "model.fit(train_x, train_y, epochs=20, batch_size=128, validation_data=(val_x, val_y))\n",
        "\n",
        "val_loss, val_acc = model.evaluate(val_x, val_y)\n",
        "print('Validation accuracy:', val_acc)"
      ],
      "metadata": {
        "colab": {
          "base_uri": "https://localhost:8080/"
        },
        "id": "V0yUVl9Nn2Hv",
        "outputId": "f8861464-2bdb-4308-a932-0af0a30c2c7c"
      },
      "execution_count": 6,
      "outputs": [
        {
          "output_type": "stream",
          "name": "stdout",
          "text": [
            "Epoch 1/20\n",
            "313/313 [==============================] - 14s 9ms/step - loss: 3.8657 - accuracy: 0.1159 - val_loss: 3.4067 - val_accuracy: 0.1917\n",
            "Epoch 2/20\n",
            "313/313 [==============================] - 2s 7ms/step - loss: 3.1134 - accuracy: 0.2415 - val_loss: 3.0284 - val_accuracy: 0.2554\n",
            "Epoch 3/20\n",
            "313/313 [==============================] - 2s 7ms/step - loss: 2.7721 - accuracy: 0.3065 - val_loss: 2.8567 - val_accuracy: 0.2826\n",
            "Epoch 4/20\n",
            "313/313 [==============================] - 2s 7ms/step - loss: 2.5341 - accuracy: 0.3550 - val_loss: 2.7861 - val_accuracy: 0.3064\n",
            "Epoch 5/20\n",
            "313/313 [==============================] - 2s 7ms/step - loss: 2.3430 - accuracy: 0.3948 - val_loss: 2.7012 - val_accuracy: 0.3264\n",
            "Epoch 6/20\n",
            "313/313 [==============================] - 2s 6ms/step - loss: 2.1672 - accuracy: 0.4315 - val_loss: 2.6883 - val_accuracy: 0.3288\n",
            "Epoch 7/20\n",
            "313/313 [==============================] - 2s 6ms/step - loss: 1.9930 - accuracy: 0.4709 - val_loss: 2.6505 - val_accuracy: 0.3468\n",
            "Epoch 8/20\n",
            "313/313 [==============================] - 2s 7ms/step - loss: 1.8353 - accuracy: 0.5058 - val_loss: 2.6674 - val_accuracy: 0.3466\n",
            "Epoch 9/20\n",
            "313/313 [==============================] - 2s 7ms/step - loss: 1.6838 - accuracy: 0.5430 - val_loss: 2.7398 - val_accuracy: 0.3421\n",
            "Epoch 10/20\n",
            "313/313 [==============================] - 2s 6ms/step - loss: 1.5394 - accuracy: 0.5758 - val_loss: 2.7792 - val_accuracy: 0.3523\n",
            "Epoch 11/20\n",
            "313/313 [==============================] - 2s 6ms/step - loss: 1.3909 - accuracy: 0.6117 - val_loss: 2.8214 - val_accuracy: 0.3538\n",
            "Epoch 12/20\n",
            "313/313 [==============================] - 3s 9ms/step - loss: 1.2726 - accuracy: 0.6396 - val_loss: 2.8991 - val_accuracy: 0.3490\n",
            "Epoch 13/20\n",
            "313/313 [==============================] - 4s 11ms/step - loss: 1.1390 - accuracy: 0.6741 - val_loss: 3.0254 - val_accuracy: 0.3423\n",
            "Epoch 14/20\n",
            "313/313 [==============================] - 3s 9ms/step - loss: 1.0254 - accuracy: 0.7047 - val_loss: 3.0749 - val_accuracy: 0.3440\n",
            "Epoch 15/20\n",
            "313/313 [==============================] - 2s 7ms/step - loss: 0.9197 - accuracy: 0.7319 - val_loss: 3.1871 - val_accuracy: 0.3429\n",
            "Epoch 16/20\n",
            "313/313 [==============================] - 2s 7ms/step - loss: 0.8297 - accuracy: 0.7559 - val_loss: 3.3807 - val_accuracy: 0.3438\n",
            "Epoch 17/20\n",
            "313/313 [==============================] - 2s 7ms/step - loss: 0.7385 - accuracy: 0.7798 - val_loss: 3.5645 - val_accuracy: 0.3397\n",
            "Epoch 18/20\n",
            "313/313 [==============================] - 2s 7ms/step - loss: 0.6737 - accuracy: 0.7979 - val_loss: 3.6160 - val_accuracy: 0.3349\n",
            "Epoch 19/20\n",
            "313/313 [==============================] - 2s 7ms/step - loss: 0.6035 - accuracy: 0.8161 - val_loss: 3.8450 - val_accuracy: 0.3307\n",
            "Epoch 20/20\n",
            "313/313 [==============================] - 2s 7ms/step - loss: 0.5507 - accuracy: 0.8342 - val_loss: 3.8932 - val_accuracy: 0.3338\n",
            "313/313 [==============================] - 1s 3ms/step - loss: 3.8932 - accuracy: 0.3338\n",
            "Validation accuracy: 0.33379998803138733\n"
          ]
        }
      ]
    },
    {
      "cell_type": "markdown",
      "source": [
        "Model 2"
      ],
      "metadata": {
        "id": "TTsbq-tgquy5"
      }
    },
    {
      "cell_type": "code",
      "source": [
        "from keras.layers import BatchNormalization\n",
        "\n",
        "model_2 = Sequential([\n",
        "    Conv2D(32, (3, 3), activation='relu', input_shape=(32, 32, 3)),\n",
        "    BatchNormalization(),\n",
        "    MaxPooling2D((2, 2)),\n",
        "    Dropout(0.25),\n",
        "    Conv2D(64, (3, 3), activation='relu'),\n",
        "    BatchNormalization(),\n",
        "    MaxPooling2D((2, 2)),\n",
        "    Dropout(0.25),\n",
        "    Flatten(),\n",
        "    Dense(512, activation='relu'),\n",
        "    BatchNormalization(),\n",
        "    Dropout(0.5),\n",
        "    Dense(256, activation='relu'),\n",
        "    BatchNormalization(),\n",
        "    Dropout(0.5),\n",
        "    Dense(100, activation='softmax')\n",
        "])\n",
        "\n",
        "model_2.compile(optimizer='rmsprop', loss='categorical_crossentropy', metrics=['accuracy'])\n",
        "\n",
        "model_2.fit(train_x, train_y, epochs=20, batch_size=128, validation_data=(val_x, val_y))\n",
        "\n",
        "val_loss, val_acc = model_2.evaluate(val_x, val_y)\n",
        "print('Validation accuracy:', val_acc)"
      ],
      "metadata": {
        "colab": {
          "base_uri": "https://localhost:8080/"
        },
        "id": "zUn2SQwqn5Kn",
        "outputId": "0eddf77b-c19e-48f5-fd8c-6e98aeeb1b17"
      },
      "execution_count": 7,
      "outputs": [
        {
          "output_type": "stream",
          "name": "stdout",
          "text": [
            "Epoch 1/20\n",
            "313/313 [==============================] - 7s 14ms/step - loss: 4.3539 - accuracy: 0.0812 - val_loss: 5.2951 - val_accuracy: 0.0328\n",
            "Epoch 2/20\n",
            "313/313 [==============================] - 3s 10ms/step - loss: 3.5316 - accuracy: 0.1685 - val_loss: 3.3922 - val_accuracy: 0.1903\n",
            "Epoch 3/20\n",
            "313/313 [==============================] - 3s 10ms/step - loss: 3.1650 - accuracy: 0.2276 - val_loss: 3.0594 - val_accuracy: 0.2593\n",
            "Epoch 4/20\n",
            "313/313 [==============================] - 3s 10ms/step - loss: 2.9327 - accuracy: 0.2724 - val_loss: 2.9824 - val_accuracy: 0.2697\n",
            "Epoch 5/20\n",
            "313/313 [==============================] - 4s 11ms/step - loss: 2.7941 - accuracy: 0.3001 - val_loss: 2.7364 - val_accuracy: 0.3116\n",
            "Epoch 6/20\n",
            "313/313 [==============================] - 3s 10ms/step - loss: 2.6818 - accuracy: 0.3212 - val_loss: 2.8867 - val_accuracy: 0.2926\n",
            "Epoch 7/20\n",
            "313/313 [==============================] - 3s 10ms/step - loss: 2.5981 - accuracy: 0.3410 - val_loss: 2.5908 - val_accuracy: 0.3440\n",
            "Epoch 8/20\n",
            "313/313 [==============================] - 3s 10ms/step - loss: 2.5344 - accuracy: 0.3516 - val_loss: 2.7173 - val_accuracy: 0.3276\n",
            "Epoch 9/20\n",
            "313/313 [==============================] - 4s 11ms/step - loss: 2.4611 - accuracy: 0.3672 - val_loss: 2.6821 - val_accuracy: 0.3332\n",
            "Epoch 10/20\n",
            "313/313 [==============================] - 3s 10ms/step - loss: 2.4036 - accuracy: 0.3789 - val_loss: 2.7963 - val_accuracy: 0.3148\n",
            "Epoch 11/20\n",
            "313/313 [==============================] - 3s 10ms/step - loss: 2.3474 - accuracy: 0.3934 - val_loss: 2.4876 - val_accuracy: 0.3600\n",
            "Epoch 12/20\n",
            "313/313 [==============================] - 4s 12ms/step - loss: 2.3021 - accuracy: 0.4021 - val_loss: 2.4976 - val_accuracy: 0.3683\n",
            "Epoch 13/20\n",
            "313/313 [==============================] - 3s 11ms/step - loss: 2.2663 - accuracy: 0.4090 - val_loss: 2.6032 - val_accuracy: 0.3508\n",
            "Epoch 14/20\n",
            "313/313 [==============================] - 3s 10ms/step - loss: 2.2208 - accuracy: 0.4216 - val_loss: 2.6702 - val_accuracy: 0.3425\n",
            "Epoch 15/20\n",
            "313/313 [==============================] - 3s 10ms/step - loss: 2.2064 - accuracy: 0.4222 - val_loss: 2.3372 - val_accuracy: 0.3993\n",
            "Epoch 16/20\n",
            "313/313 [==============================] - 4s 11ms/step - loss: 2.1502 - accuracy: 0.4344 - val_loss: 2.6128 - val_accuracy: 0.3561\n",
            "Epoch 17/20\n",
            "313/313 [==============================] - 3s 10ms/step - loss: 2.1288 - accuracy: 0.4381 - val_loss: 2.5323 - val_accuracy: 0.3647\n",
            "Epoch 18/20\n",
            "313/313 [==============================] - 3s 10ms/step - loss: 2.0975 - accuracy: 0.4451 - val_loss: 2.3149 - val_accuracy: 0.4081\n",
            "Epoch 19/20\n",
            "313/313 [==============================] - 3s 10ms/step - loss: 2.0535 - accuracy: 0.4527 - val_loss: 2.3199 - val_accuracy: 0.4036\n",
            "Epoch 20/20\n",
            "313/313 [==============================] - 3s 11ms/step - loss: 2.0316 - accuracy: 0.4597 - val_loss: 2.3317 - val_accuracy: 0.4095\n",
            "313/313 [==============================] - 1s 3ms/step - loss: 2.3317 - accuracy: 0.4095\n",
            "Validation accuracy: 0.40950000286102295\n"
          ]
        }
      ]
    },
    {
      "cell_type": "markdown",
      "source": [
        "Model 3"
      ],
      "metadata": {
        "id": "b_y1SNPSq3yY"
      }
    },
    {
      "cell_type": "code",
      "source": [
        "from keras.layers import BatchNormalization\n",
        "\n",
        "model_3 = Sequential([\n",
        "    Conv2D(32, (3, 3), activation='relu', input_shape=(32, 32, 3)),\n",
        "    BatchNormalization(),\n",
        "    MaxPooling2D((2, 2)),\n",
        "    Dropout(0.25),\n",
        "    Conv2D(64, (3, 3), activation='relu'),\n",
        "    BatchNormalization(),\n",
        "    MaxPooling2D((2, 2)),\n",
        "    Dropout(0.25),\n",
        "    Flatten(),\n",
        "    Dense(512, activation='elu'),\n",
        "    BatchNormalization(),\n",
        "    Dropout(0.5),\n",
        "    Dense(1024, activation='relu'),\n",
        "    BatchNormalization(),\n",
        "    Dropout(0.5),\n",
        "    Dense(512, activation='elu'),\n",
        "    BatchNormalization(),\n",
        "    Dropout(0.5),\n",
        "    Dense(256, activation='relu'),\n",
        "    BatchNormalization(),\n",
        "    Dropout(0.5),\n",
        "    Dense(100, activation='softmax')\n",
        "])\n",
        "\n",
        "model_3.compile(optimizer='rmsprop', loss='categorical_crossentropy', metrics=['accuracy'])\n",
        "\n",
        "model_3.fit(train_x, train_y, epochs=20, batch_size=128, validation_data=(val_x, val_y))\n",
        "\n",
        "val_loss, val_acc = model_3.evaluate(val_x, val_y)\n",
        "print('Validation accuracy:', val_acc)"
      ],
      "metadata": {
        "colab": {
          "base_uri": "https://localhost:8080/"
        },
        "id": "BLLCOWNTpJ-D",
        "outputId": "091133b6-11bb-4fbd-c4e6-221338df5726"
      },
      "execution_count": 8,
      "outputs": [
        {
          "output_type": "stream",
          "name": "stdout",
          "text": [
            "Epoch 1/20\n",
            "313/313 [==============================] - 9s 14ms/step - loss: 4.5283 - accuracy: 0.0595 - val_loss: 5.3233 - val_accuracy: 0.0326\n",
            "Epoch 2/20\n",
            "313/313 [==============================] - 4s 11ms/step - loss: 3.7750 - accuracy: 0.1232 - val_loss: 3.8759 - val_accuracy: 0.1243\n",
            "Epoch 3/20\n",
            "313/313 [==============================] - 4s 11ms/step - loss: 3.4156 - accuracy: 0.1768 - val_loss: 3.3816 - val_accuracy: 0.1904\n",
            "Epoch 4/20\n",
            "313/313 [==============================] - 4s 13ms/step - loss: 3.1771 - accuracy: 0.2171 - val_loss: 3.0810 - val_accuracy: 0.2314\n",
            "Epoch 5/20\n",
            "313/313 [==============================] - 4s 11ms/step - loss: 3.0129 - accuracy: 0.2462 - val_loss: 2.8807 - val_accuracy: 0.2695\n",
            "Epoch 6/20\n",
            "313/313 [==============================] - 4s 11ms/step - loss: 2.9069 - accuracy: 0.2700 - val_loss: 3.1444 - val_accuracy: 0.2319\n",
            "Epoch 7/20\n",
            "313/313 [==============================] - 4s 13ms/step - loss: 2.8131 - accuracy: 0.2889 - val_loss: 2.6437 - val_accuracy: 0.3227\n",
            "Epoch 8/20\n",
            "313/313 [==============================] - 4s 12ms/step - loss: 2.7333 - accuracy: 0.3034 - val_loss: 3.3417 - val_accuracy: 0.2274\n",
            "Epoch 9/20\n",
            "313/313 [==============================] - 4s 11ms/step - loss: 2.6710 - accuracy: 0.3175 - val_loss: 2.6303 - val_accuracy: 0.3281\n",
            "Epoch 10/20\n",
            "313/313 [==============================] - 4s 13ms/step - loss: 2.6153 - accuracy: 0.3282 - val_loss: 2.9498 - val_accuracy: 0.2859\n",
            "Epoch 11/20\n",
            "313/313 [==============================] - 4s 12ms/step - loss: 2.5668 - accuracy: 0.3394 - val_loss: 2.6007 - val_accuracy: 0.3358\n",
            "Epoch 12/20\n",
            "313/313 [==============================] - 4s 11ms/step - loss: 2.5196 - accuracy: 0.3520 - val_loss: 2.5104 - val_accuracy: 0.3520\n",
            "Epoch 13/20\n",
            "313/313 [==============================] - 4s 12ms/step - loss: 2.4762 - accuracy: 0.3615 - val_loss: 2.6660 - val_accuracy: 0.3354\n",
            "Epoch 14/20\n",
            "313/313 [==============================] - 4s 13ms/step - loss: 2.4429 - accuracy: 0.3683 - val_loss: 2.5155 - val_accuracy: 0.3547\n",
            "Epoch 15/20\n",
            "313/313 [==============================] - 4s 11ms/step - loss: 2.4067 - accuracy: 0.3759 - val_loss: 2.5333 - val_accuracy: 0.3570\n",
            "Epoch 16/20\n",
            "313/313 [==============================] - 4s 11ms/step - loss: 2.3637 - accuracy: 0.3851 - val_loss: 2.5680 - val_accuracy: 0.3578\n",
            "Epoch 17/20\n",
            "313/313 [==============================] - 4s 13ms/step - loss: 2.3366 - accuracy: 0.3897 - val_loss: 2.3750 - val_accuracy: 0.3842\n",
            "Epoch 18/20\n",
            "313/313 [==============================] - 4s 11ms/step - loss: 2.3163 - accuracy: 0.3970 - val_loss: 2.3725 - val_accuracy: 0.3843\n",
            "Epoch 19/20\n",
            "313/313 [==============================] - 4s 12ms/step - loss: 2.2767 - accuracy: 0.4046 - val_loss: 2.6418 - val_accuracy: 0.3440\n",
            "Epoch 20/20\n",
            "313/313 [==============================] - 4s 14ms/step - loss: 2.2583 - accuracy: 0.4120 - val_loss: 2.4498 - val_accuracy: 0.3744\n",
            "313/313 [==============================] - 1s 3ms/step - loss: 2.4498 - accuracy: 0.3744\n",
            "Validation accuracy: 0.37439998984336853\n"
          ]
        }
      ]
    },
    {
      "cell_type": "markdown",
      "source": [
        "Model 4"
      ],
      "metadata": {
        "id": "JC4HMKLCs9W2"
      }
    },
    {
      "cell_type": "code",
      "source": [
        "from keras.preprocessing.image import ImageDataGenerator\n",
        "from keras.layers import BatchNormalization\n",
        "\n",
        "# Create data generator with augmentation\n",
        "datagen = ImageDataGenerator(\n",
        "    rotation_range=15,\n",
        "    width_shift_range=0.1,\n",
        "    height_shift_range=0.1,\n",
        "    shear_range=0.1,\n",
        "    zoom_range=0.1,\n",
        "    horizontal_flip=True,\n",
        "    fill_mode='nearest'\n",
        ")\n",
        "\n",
        "model_4 = Sequential([\n",
        "    Conv2D(32, (3, 3), activation='relu', input_shape=(32, 32, 3)),\n",
        "    BatchNormalization(),\n",
        "    MaxPooling2D((2, 2)),\n",
        "    Dropout(0.25),\n",
        "    Conv2D(64, (3, 3), activation='relu'),\n",
        "    BatchNormalization(),\n",
        "    MaxPooling2D((2, 2)),\n",
        "    Dropout(0.25),\n",
        "    Flatten(),\n",
        "    Dense(512, activation='relu'),\n",
        "    BatchNormalization(),\n",
        "    Dropout(0.5),\n",
        "    Dense(256, activation='relu'),\n",
        "    BatchNormalization(),\n",
        "    Dropout(0.5),\n",
        "    Dense(100, activation='softmax')\n",
        "])\n",
        "\n",
        "# Compile the model\n",
        "model_4.compile(optimizer='adam', loss='categorical_crossentropy', metrics=['accuracy'])\n",
        "\n",
        "# Fit the model with data augmentation\n",
        "history = model_4.fit(datagen.flow(train_x, train_y, batch_size=64),\n",
        "                    steps_per_epoch=len(train_x) / 64, epochs=50, \n",
        "                    validation_data=(val_x, val_y))\n"
      ],
      "metadata": {
        "colab": {
          "base_uri": "https://localhost:8080/"
        },
        "id": "Ywr6BbAWskTZ",
        "outputId": "d2cb8f13-0100-476c-cffb-2ad60caf8f61"
      },
      "execution_count": 8,
      "outputs": [
        {
          "output_type": "stream",
          "name": "stdout",
          "text": [
            "Epoch 1/50\n",
            "625/625 [==============================] - 27s 36ms/step - loss: 4.3666 - accuracy: 0.0742 - val_loss: 3.9694 - val_accuracy: 0.0870\n",
            "Epoch 2/50\n",
            "625/625 [==============================] - 22s 36ms/step - loss: 3.6902 - accuracy: 0.1365 - val_loss: 3.3461 - val_accuracy: 0.2108\n",
            "Epoch 3/50\n",
            "625/625 [==============================] - 22s 36ms/step - loss: 3.4169 - accuracy: 0.1802 - val_loss: 3.0747 - val_accuracy: 0.2353\n",
            "Epoch 4/50\n",
            "625/625 [==============================] - 22s 36ms/step - loss: 3.2517 - accuracy: 0.2041 - val_loss: 2.9896 - val_accuracy: 0.2646\n",
            "Epoch 5/50\n",
            "625/625 [==============================] - 22s 36ms/step - loss: 3.1468 - accuracy: 0.2267 - val_loss: 2.7333 - val_accuracy: 0.3045\n",
            "Epoch 6/50\n",
            "625/625 [==============================] - 22s 36ms/step - loss: 3.0435 - accuracy: 0.2456 - val_loss: 2.9393 - val_accuracy: 0.2686\n",
            "Epoch 7/50\n",
            "625/625 [==============================] - 22s 36ms/step - loss: 2.9797 - accuracy: 0.2548 - val_loss: 2.6637 - val_accuracy: 0.3249\n",
            "Epoch 8/50\n",
            "625/625 [==============================] - 22s 36ms/step - loss: 2.9275 - accuracy: 0.2691 - val_loss: 2.5999 - val_accuracy: 0.3361\n",
            "Epoch 9/50\n",
            "625/625 [==============================] - 23s 36ms/step - loss: 2.8829 - accuracy: 0.2783 - val_loss: 2.7211 - val_accuracy: 0.3178\n",
            "Epoch 10/50\n",
            "625/625 [==============================] - 22s 36ms/step - loss: 2.8436 - accuracy: 0.2833 - val_loss: 2.8541 - val_accuracy: 0.2912\n",
            "Epoch 11/50\n",
            "625/625 [==============================] - 22s 36ms/step - loss: 2.8174 - accuracy: 0.2906 - val_loss: 2.4541 - val_accuracy: 0.3595\n",
            "Epoch 12/50\n",
            "625/625 [==============================] - 22s 36ms/step - loss: 2.7778 - accuracy: 0.2970 - val_loss: 2.3753 - val_accuracy: 0.3860\n",
            "Epoch 13/50\n",
            "625/625 [==============================] - 22s 36ms/step - loss: 2.7605 - accuracy: 0.3011 - val_loss: 2.4963 - val_accuracy: 0.3613\n",
            "Epoch 14/50\n",
            "625/625 [==============================] - 22s 36ms/step - loss: 2.7375 - accuracy: 0.3093 - val_loss: 2.2511 - val_accuracy: 0.4125\n",
            "Epoch 15/50\n",
            "625/625 [==============================] - 22s 36ms/step - loss: 2.7074 - accuracy: 0.3097 - val_loss: 2.3189 - val_accuracy: 0.3982\n",
            "Epoch 16/50\n",
            "625/625 [==============================] - 22s 36ms/step - loss: 2.6819 - accuracy: 0.3178 - val_loss: 2.4229 - val_accuracy: 0.3750\n",
            "Epoch 17/50\n",
            "625/625 [==============================] - 22s 36ms/step - loss: 2.6766 - accuracy: 0.3200 - val_loss: 2.4404 - val_accuracy: 0.3724\n",
            "Epoch 18/50\n",
            "625/625 [==============================] - 22s 36ms/step - loss: 2.6433 - accuracy: 0.3267 - val_loss: 2.3472 - val_accuracy: 0.3862\n",
            "Epoch 19/50\n",
            "625/625 [==============================] - 22s 36ms/step - loss: 2.6339 - accuracy: 0.3285 - val_loss: 2.3933 - val_accuracy: 0.3814\n",
            "Epoch 20/50\n",
            "625/625 [==============================] - 22s 36ms/step - loss: 2.6272 - accuracy: 0.3284 - val_loss: 2.2220 - val_accuracy: 0.4123\n",
            "Epoch 21/50\n",
            "625/625 [==============================] - 22s 36ms/step - loss: 2.5967 - accuracy: 0.3370 - val_loss: 2.3326 - val_accuracy: 0.3947\n",
            "Epoch 22/50\n",
            "625/625 [==============================] - 22s 36ms/step - loss: 2.5918 - accuracy: 0.3388 - val_loss: 2.5420 - val_accuracy: 0.3486\n",
            "Epoch 23/50\n",
            "625/625 [==============================] - 22s 36ms/step - loss: 2.5780 - accuracy: 0.3388 - val_loss: 2.1350 - val_accuracy: 0.4314\n",
            "Epoch 24/50\n",
            "625/625 [==============================] - 22s 36ms/step - loss: 2.5645 - accuracy: 0.3407 - val_loss: 2.4280 - val_accuracy: 0.3763\n",
            "Epoch 25/50\n",
            "625/625 [==============================] - 22s 36ms/step - loss: 2.5464 - accuracy: 0.3449 - val_loss: 2.1600 - val_accuracy: 0.4304\n",
            "Epoch 26/50\n",
            "625/625 [==============================] - 22s 36ms/step - loss: 2.5317 - accuracy: 0.3475 - val_loss: 2.5110 - val_accuracy: 0.3579\n",
            "Epoch 27/50\n",
            "625/625 [==============================] - 22s 36ms/step - loss: 2.5309 - accuracy: 0.3488 - val_loss: 2.1663 - val_accuracy: 0.4278\n",
            "Epoch 28/50\n",
            "625/625 [==============================] - 22s 36ms/step - loss: 2.5016 - accuracy: 0.3534 - val_loss: 2.1312 - val_accuracy: 0.4385\n",
            "Epoch 29/50\n",
            "625/625 [==============================] - 22s 36ms/step - loss: 2.5050 - accuracy: 0.3549 - val_loss: 2.3297 - val_accuracy: 0.3948\n",
            "Epoch 30/50\n",
            "625/625 [==============================] - 22s 36ms/step - loss: 2.4999 - accuracy: 0.3540 - val_loss: 2.2162 - val_accuracy: 0.4169\n",
            "Epoch 31/50\n",
            "625/625 [==============================] - 22s 36ms/step - loss: 2.4866 - accuracy: 0.3564 - val_loss: 2.2511 - val_accuracy: 0.4067\n",
            "Epoch 32/50\n",
            "625/625 [==============================] - 22s 36ms/step - loss: 2.4846 - accuracy: 0.3559 - val_loss: 2.2196 - val_accuracy: 0.4177\n",
            "Epoch 33/50\n",
            "625/625 [==============================] - 22s 36ms/step - loss: 2.4758 - accuracy: 0.3580 - val_loss: 2.2053 - val_accuracy: 0.4172\n",
            "Epoch 34/50\n",
            "625/625 [==============================] - 22s 36ms/step - loss: 2.4644 - accuracy: 0.3634 - val_loss: 2.1719 - val_accuracy: 0.4253\n",
            "Epoch 35/50\n",
            "625/625 [==============================] - 22s 36ms/step - loss: 2.4525 - accuracy: 0.3635 - val_loss: 2.1588 - val_accuracy: 0.4310\n",
            "Epoch 36/50\n",
            "625/625 [==============================] - 22s 36ms/step - loss: 2.4394 - accuracy: 0.3696 - val_loss: 2.0405 - val_accuracy: 0.4560\n",
            "Epoch 37/50\n",
            "625/625 [==============================] - 22s 36ms/step - loss: 2.4410 - accuracy: 0.3681 - val_loss: 2.1067 - val_accuracy: 0.4495\n",
            "Epoch 38/50\n",
            "625/625 [==============================] - 22s 36ms/step - loss: 2.4378 - accuracy: 0.3682 - val_loss: 2.1553 - val_accuracy: 0.4353\n",
            "Epoch 39/50\n",
            "625/625 [==============================] - 22s 36ms/step - loss: 2.4296 - accuracy: 0.3697 - val_loss: 2.1894 - val_accuracy: 0.4233\n",
            "Epoch 40/50\n",
            "625/625 [==============================] - 23s 36ms/step - loss: 2.4099 - accuracy: 0.3737 - val_loss: 2.1547 - val_accuracy: 0.4293\n",
            "Epoch 41/50\n",
            "625/625 [==============================] - 23s 36ms/step - loss: 2.4064 - accuracy: 0.3746 - val_loss: 2.1567 - val_accuracy: 0.4356\n",
            "Epoch 42/50\n",
            "625/625 [==============================] - 22s 36ms/step - loss: 2.4062 - accuracy: 0.3794 - val_loss: 2.2021 - val_accuracy: 0.4236\n",
            "Epoch 43/50\n",
            "625/625 [==============================] - 22s 36ms/step - loss: 2.3985 - accuracy: 0.3768 - val_loss: 2.6021 - val_accuracy: 0.3502\n",
            "Epoch 44/50\n",
            "625/625 [==============================] - 22s 36ms/step - loss: 2.3841 - accuracy: 0.3794 - val_loss: 1.9488 - val_accuracy: 0.4824\n",
            "Epoch 45/50\n",
            "625/625 [==============================] - 22s 36ms/step - loss: 2.3896 - accuracy: 0.3760 - val_loss: 2.1121 - val_accuracy: 0.4405\n",
            "Epoch 46/50\n",
            "625/625 [==============================] - 22s 36ms/step - loss: 2.3755 - accuracy: 0.3832 - val_loss: 2.1638 - val_accuracy: 0.4268\n",
            "Epoch 47/50\n",
            "625/625 [==============================] - 22s 36ms/step - loss: 2.3766 - accuracy: 0.3797 - val_loss: 2.1326 - val_accuracy: 0.4422\n",
            "Epoch 48/50\n",
            "625/625 [==============================] - 22s 36ms/step - loss: 2.3644 - accuracy: 0.3855 - val_loss: 2.2588 - val_accuracy: 0.4107\n",
            "Epoch 49/50\n",
            "625/625 [==============================] - 22s 36ms/step - loss: 2.3582 - accuracy: 0.3841 - val_loss: 2.0471 - val_accuracy: 0.4555\n",
            "Epoch 50/50\n",
            "625/625 [==============================] - 22s 36ms/step - loss: 2.3586 - accuracy: 0.3850 - val_loss: 2.1899 - val_accuracy: 0.4266\n"
          ]
        }
      ]
    },
    {
      "cell_type": "code",
      "source": [
        "val_loss, val_acc = model_4.evaluate(val_x, val_y)\n",
        "print('Validation accuracy:', val_acc)"
      ],
      "metadata": {
        "colab": {
          "base_uri": "https://localhost:8080/"
        },
        "id": "vGSz7SeK2B2J",
        "outputId": "5c9ecbc1-4893-4330-e9ea-e215134030a9"
      },
      "execution_count": 9,
      "outputs": [
        {
          "output_type": "stream",
          "name": "stdout",
          "text": [
            "313/313 [==============================] - 1s 3ms/step - loss: 2.1899 - accuracy: 0.4266\n",
            "Validation accuracy: 0.42660000920295715\n"
          ]
        }
      ]
    },
    {
      "cell_type": "markdown",
      "source": [
        "Model 5"
      ],
      "metadata": {
        "id": "3fpD9iuA06BD"
      }
    },
    {
      "cell_type": "code",
      "source": [
        "from keras.models import Sequential\n",
        "from keras.layers import Conv2D, MaxPooling2D, Flatten, Dense, Dropout\n",
        "\n",
        "datagen = ImageDataGenerator(\n",
        "    rotation_range=15,\n",
        "    width_shift_range=0.1,\n",
        "    height_shift_range=0.1,\n",
        "    shear_range=0.1,\n",
        "    zoom_range=0.1,\n",
        "    horizontal_flip=True,\n",
        "    fill_mode='nearest'\n",
        ")\n",
        "\n",
        "\n",
        "model_5 = Sequential([\n",
        "    Conv2D(32, (3, 3), padding='same', activation='relu', input_shape=val_x.shape[1:]),\n",
        "    Conv2D(32, (3, 3), activation='relu'),\n",
        "    BatchNormalization(),\n",
        "    MaxPooling2D(pool_size=(2, 2)),\n",
        "    Dropout(0.25),\n",
        "    Conv2D(64, (3, 3), padding='same', activation='relu'),\n",
        "    Conv2D(64, (3, 3), activation='relu'),\n",
        "    BatchNormalization(),\n",
        "    MaxPooling2D(pool_size=(2, 2)),\n",
        "    Dropout(0.25),\n",
        "    Flatten(),\n",
        "    Dense(512, activation='relu'),\n",
        "    BatchNormalization(),\n",
        "    Dropout(0.5),\n",
        "    Dense(100, activation='softmax')\n",
        "])\n",
        "\n",
        "model_5.compile(optimizer='rmsprop', loss='categorical_crossentropy', metrics=['accuracy'])\n",
        "\n",
        "# Fit the model with data augmentation\n",
        "history = model_5.fit(datagen.flow(train_x, train_y, batch_size=64),\n",
        "                    steps_per_epoch=len(train_x) / 64, epochs=50, \n",
        "                    validation_data=(val_x, val_y))\n",
        "val_loss, val_acc = model_5.evaluate(val_x, val_y)\n",
        "print('Validation accuracy:', val_acc)"
      ],
      "metadata": {
        "colab": {
          "base_uri": "https://localhost:8080/"
        },
        "id": "n6Mbw3JGxKUh",
        "outputId": "415dcfea-8808-4ae9-f666-5443b2a526c9"
      },
      "execution_count": 10,
      "outputs": [
        {
          "output_type": "stream",
          "name": "stdout",
          "text": [
            "Epoch 1/50\n",
            "625/625 [==============================] - 26s 37ms/step - loss: 4.2770 - accuracy: 0.0980 - val_loss: 3.5386 - val_accuracy: 0.1649\n",
            "Epoch 2/50\n",
            "625/625 [==============================] - 22s 36ms/step - loss: 3.4583 - accuracy: 0.1907 - val_loss: 2.9848 - val_accuracy: 0.2726\n",
            "Epoch 3/50\n",
            "625/625 [==============================] - 22s 36ms/step - loss: 3.1054 - accuracy: 0.2442 - val_loss: 2.6834 - val_accuracy: 0.3333\n",
            "Epoch 4/50\n",
            "625/625 [==============================] - 23s 36ms/step - loss: 2.9182 - accuracy: 0.2844 - val_loss: 2.7839 - val_accuracy: 0.3108\n",
            "Epoch 5/50\n",
            "625/625 [==============================] - 23s 36ms/step - loss: 2.7871 - accuracy: 0.3056 - val_loss: 2.5869 - val_accuracy: 0.3498\n",
            "Epoch 6/50\n",
            "625/625 [==============================] - 22s 36ms/step - loss: 2.6858 - accuracy: 0.3259 - val_loss: 2.4377 - val_accuracy: 0.3759\n",
            "Epoch 7/50\n",
            "625/625 [==============================] - 22s 36ms/step - loss: 2.6174 - accuracy: 0.3413 - val_loss: 2.3555 - val_accuracy: 0.3981\n",
            "Epoch 8/50\n",
            "625/625 [==============================] - 23s 36ms/step - loss: 2.5665 - accuracy: 0.3518 - val_loss: 2.3216 - val_accuracy: 0.4090\n",
            "Epoch 9/50\n",
            "625/625 [==============================] - 22s 36ms/step - loss: 2.5173 - accuracy: 0.3636 - val_loss: 2.4714 - val_accuracy: 0.3839\n",
            "Epoch 10/50\n",
            "625/625 [==============================] - 22s 36ms/step - loss: 2.4816 - accuracy: 0.3700 - val_loss: 2.5552 - val_accuracy: 0.3732\n",
            "Epoch 11/50\n",
            "625/625 [==============================] - 22s 36ms/step - loss: 2.4444 - accuracy: 0.3805 - val_loss: 2.3435 - val_accuracy: 0.4116\n",
            "Epoch 12/50\n",
            "625/625 [==============================] - 22s 36ms/step - loss: 2.4000 - accuracy: 0.3879 - val_loss: 2.2240 - val_accuracy: 0.4297\n",
            "Epoch 13/50\n",
            "625/625 [==============================] - 23s 36ms/step - loss: 2.3826 - accuracy: 0.3933 - val_loss: 2.1348 - val_accuracy: 0.4454\n",
            "Epoch 14/50\n",
            "625/625 [==============================] - 22s 36ms/step - loss: 2.3488 - accuracy: 0.3974 - val_loss: 2.1817 - val_accuracy: 0.4356\n",
            "Epoch 15/50\n",
            "625/625 [==============================] - 22s 36ms/step - loss: 2.3324 - accuracy: 0.4030 - val_loss: 2.1180 - val_accuracy: 0.4504\n",
            "Epoch 16/50\n",
            "625/625 [==============================] - 22s 36ms/step - loss: 2.3129 - accuracy: 0.4043 - val_loss: 2.1303 - val_accuracy: 0.4542\n",
            "Epoch 17/50\n",
            "625/625 [==============================] - 22s 36ms/step - loss: 2.2839 - accuracy: 0.4133 - val_loss: 2.1331 - val_accuracy: 0.4474\n",
            "Epoch 18/50\n",
            "625/625 [==============================] - 22s 36ms/step - loss: 2.2680 - accuracy: 0.4169 - val_loss: 2.1149 - val_accuracy: 0.4500\n",
            "Epoch 19/50\n",
            "625/625 [==============================] - 22s 36ms/step - loss: 2.2549 - accuracy: 0.4176 - val_loss: 2.1780 - val_accuracy: 0.4473\n",
            "Epoch 20/50\n",
            "625/625 [==============================] - 22s 36ms/step - loss: 2.2277 - accuracy: 0.4259 - val_loss: 2.0827 - val_accuracy: 0.4611\n",
            "Epoch 21/50\n",
            "625/625 [==============================] - 22s 36ms/step - loss: 2.2203 - accuracy: 0.4283 - val_loss: 2.0902 - val_accuracy: 0.4546\n",
            "Epoch 22/50\n",
            "625/625 [==============================] - 22s 36ms/step - loss: 2.2057 - accuracy: 0.4333 - val_loss: 1.9535 - val_accuracy: 0.4900\n",
            "Epoch 23/50\n",
            "625/625 [==============================] - 22s 36ms/step - loss: 2.1993 - accuracy: 0.4337 - val_loss: 2.1297 - val_accuracy: 0.4441\n",
            "Epoch 24/50\n",
            "625/625 [==============================] - 22s 36ms/step - loss: 2.1657 - accuracy: 0.4371 - val_loss: 1.9945 - val_accuracy: 0.4844\n",
            "Epoch 25/50\n",
            "625/625 [==============================] - 22s 36ms/step - loss: 2.1658 - accuracy: 0.4408 - val_loss: 2.0053 - val_accuracy: 0.4786\n",
            "Epoch 26/50\n",
            "625/625 [==============================] - 22s 36ms/step - loss: 2.1598 - accuracy: 0.4415 - val_loss: 1.8686 - val_accuracy: 0.5142\n",
            "Epoch 27/50\n",
            "625/625 [==============================] - 22s 36ms/step - loss: 2.1435 - accuracy: 0.4437 - val_loss: 2.3793 - val_accuracy: 0.4200\n",
            "Epoch 28/50\n",
            "625/625 [==============================] - 22s 36ms/step - loss: 2.1342 - accuracy: 0.4449 - val_loss: 2.1355 - val_accuracy: 0.4505\n",
            "Epoch 29/50\n",
            "625/625 [==============================] - 22s 36ms/step - loss: 2.1328 - accuracy: 0.4479 - val_loss: 1.9722 - val_accuracy: 0.4922\n",
            "Epoch 30/50\n",
            "625/625 [==============================] - 22s 36ms/step - loss: 2.1087 - accuracy: 0.4479 - val_loss: 2.0643 - val_accuracy: 0.4690\n",
            "Epoch 31/50\n",
            "625/625 [==============================] - 22s 36ms/step - loss: 2.1059 - accuracy: 0.4534 - val_loss: 2.0570 - val_accuracy: 0.4624\n",
            "Epoch 32/50\n",
            "625/625 [==============================] - 23s 36ms/step - loss: 2.0962 - accuracy: 0.4556 - val_loss: 1.8837 - val_accuracy: 0.5053\n",
            "Epoch 33/50\n",
            "625/625 [==============================] - 23s 36ms/step - loss: 2.0830 - accuracy: 0.4590 - val_loss: 1.9044 - val_accuracy: 0.4974\n",
            "Epoch 34/50\n",
            "625/625 [==============================] - 22s 36ms/step - loss: 2.0894 - accuracy: 0.4554 - val_loss: 1.9376 - val_accuracy: 0.4940\n",
            "Epoch 35/50\n",
            "625/625 [==============================] - 23s 36ms/step - loss: 2.0612 - accuracy: 0.4628 - val_loss: 1.7843 - val_accuracy: 0.5205\n",
            "Epoch 36/50\n",
            "625/625 [==============================] - 22s 36ms/step - loss: 2.0612 - accuracy: 0.4645 - val_loss: 1.9245 - val_accuracy: 0.4978\n",
            "Epoch 37/50\n",
            "625/625 [==============================] - 22s 36ms/step - loss: 2.0571 - accuracy: 0.4642 - val_loss: 2.0862 - val_accuracy: 0.4631\n",
            "Epoch 38/50\n",
            "625/625 [==============================] - 22s 36ms/step - loss: 2.0516 - accuracy: 0.4620 - val_loss: 1.7866 - val_accuracy: 0.5209\n",
            "Epoch 39/50\n",
            "625/625 [==============================] - 22s 36ms/step - loss: 2.0392 - accuracy: 0.4668 - val_loss: 1.8153 - val_accuracy: 0.5206\n",
            "Epoch 40/50\n",
            "625/625 [==============================] - 22s 36ms/step - loss: 2.0391 - accuracy: 0.4668 - val_loss: 1.8692 - val_accuracy: 0.5064\n",
            "Epoch 41/50\n",
            "625/625 [==============================] - 22s 36ms/step - loss: 2.0250 - accuracy: 0.4678 - val_loss: 2.1135 - val_accuracy: 0.4628\n",
            "Epoch 42/50\n",
            "625/625 [==============================] - 22s 36ms/step - loss: 2.0219 - accuracy: 0.4733 - val_loss: 2.1266 - val_accuracy: 0.4651\n",
            "Epoch 43/50\n",
            "625/625 [==============================] - 22s 36ms/step - loss: 2.0096 - accuracy: 0.4750 - val_loss: 1.8243 - val_accuracy: 0.5160\n",
            "Epoch 44/50\n",
            "625/625 [==============================] - 22s 36ms/step - loss: 2.0110 - accuracy: 0.4706 - val_loss: 1.9169 - val_accuracy: 0.5053\n",
            "Epoch 45/50\n",
            "625/625 [==============================] - 22s 36ms/step - loss: 2.0035 - accuracy: 0.4738 - val_loss: 1.9204 - val_accuracy: 0.4988\n",
            "Epoch 46/50\n",
            "625/625 [==============================] - 22s 36ms/step - loss: 1.9893 - accuracy: 0.4785 - val_loss: 2.0089 - val_accuracy: 0.4787\n",
            "Epoch 47/50\n",
            "625/625 [==============================] - 22s 36ms/step - loss: 1.9827 - accuracy: 0.4803 - val_loss: 1.9731 - val_accuracy: 0.4928\n",
            "Epoch 48/50\n",
            "625/625 [==============================] - 22s 36ms/step - loss: 1.9820 - accuracy: 0.4769 - val_loss: 1.7315 - val_accuracy: 0.5421\n",
            "Epoch 49/50\n",
            "625/625 [==============================] - 22s 36ms/step - loss: 1.9747 - accuracy: 0.4796 - val_loss: 1.7906 - val_accuracy: 0.5250\n",
            "Epoch 50/50\n",
            "625/625 [==============================] - 22s 36ms/step - loss: 1.9725 - accuracy: 0.4832 - val_loss: 1.9027 - val_accuracy: 0.5067\n",
            "313/313 [==============================] - 1s 3ms/step - loss: 1.9027 - accuracy: 0.5067\n",
            "Validation accuracy: 0.5066999793052673\n"
          ]
        }
      ]
    },
    {
      "cell_type": "markdown",
      "source": [
        "Model 6"
      ],
      "metadata": {
        "id": "hW8h3JaM3ArN"
      }
    },
    {
      "cell_type": "code",
      "source": [
        "from keras.models import Sequential\n",
        "from keras.layers import Conv2D, MaxPooling2D, Flatten, Dense, Dropout\n",
        "from keras.preprocessing.image import ImageDataGenerator\n",
        "from keras.layers import BatchNormalization\n",
        "\n",
        "datagen = ImageDataGenerator(\n",
        "    rotation_range=15,\n",
        "    width_shift_range=0.1,\n",
        "    height_shift_range=0.1,\n",
        "    shear_range=0.1,\n",
        "    zoom_range=0.1,\n",
        "    horizontal_flip=True,\n",
        "    fill_mode='nearest'\n",
        ")\n",
        "\n",
        "\n",
        "model_6 = Sequential([\n",
        "    Conv2D(32, (3, 3), padding='same', activation='relu', input_shape=val_x.shape[1:]),\n",
        "    Conv2D(64, (3, 3), activation='relu'),\n",
        "    BatchNormalization(),\n",
        "    MaxPooling2D(pool_size=(2, 2)),\n",
        "    Dropout(0.25),\n",
        "    Conv2D(128, (3, 3), padding='same', activation='relu'),\n",
        "    Conv2D(256, (3, 3), padding='same', activation='relu'),\n",
        "    Conv2D(512, (3, 3), padding='same', activation='relu'),\n",
        "    #Conv2D(64, (3, 3), activation='relu'),\n",
        "    BatchNormalization(),\n",
        "    MaxPooling2D(pool_size=(2, 2)),\n",
        "    Dropout(0.5),\n",
        "    Flatten(),\n",
        "    Dense(512, activation='relu'),\n",
        "    BatchNormalization(),\n",
        "    Dense(256, activation='relu'),\n",
        "    Dropout(0.5),\n",
        "    Dense(100, activation='softmax')\n",
        "])\n",
        "\n",
        "model_6.compile(optimizer='adam', loss='categorical_crossentropy', metrics=['accuracy'])\n",
        "\n",
        "# Fit the model with data augmentation\n",
        "history = model_6.fit(datagen.flow(train_x, train_y, batch_size=64),\n",
        "                    steps_per_epoch=len(train_x) / 64, epochs=50, \n",
        "                    validation_data=(val_x, val_y))\n",
        "val_loss, val_acc = model_5.evaluate(val_x, val_y)\n",
        "print('Validation accuracy:', val_acc)"
      ],
      "metadata": {
        "colab": {
          "base_uri": "https://localhost:8080/"
        },
        "id": "mXHlBSgC2Ykk",
        "outputId": "ef01aa75-d896-43a3-e93d-77743992602b"
      },
      "execution_count": 11,
      "outputs": [
        {
          "output_type": "stream",
          "name": "stdout",
          "text": [
            "Epoch 1/50\n",
            "625/625 [==============================] - 28s 37ms/step - loss: 4.2067 - accuracy: 0.0750 - val_loss: 3.5810 - val_accuracy: 0.1522\n",
            "Epoch 2/50\n",
            "625/625 [==============================] - 23s 36ms/step - loss: 3.6097 - accuracy: 0.1467 - val_loss: 3.3920 - val_accuracy: 0.1898\n",
            "Epoch 3/50\n",
            "625/625 [==============================] - 23s 36ms/step - loss: 3.2870 - accuracy: 0.2035 - val_loss: 3.0557 - val_accuracy: 0.2366\n",
            "Epoch 4/50\n",
            "625/625 [==============================] - 23s 36ms/step - loss: 3.0665 - accuracy: 0.2447 - val_loss: 3.1689 - val_accuracy: 0.2362\n",
            "Epoch 5/50\n",
            "625/625 [==============================] - 23s 36ms/step - loss: 2.8857 - accuracy: 0.2763 - val_loss: 2.8618 - val_accuracy: 0.2886\n",
            "Epoch 6/50\n",
            "625/625 [==============================] - 23s 36ms/step - loss: 2.7670 - accuracy: 0.2998 - val_loss: 2.4295 - val_accuracy: 0.3737\n",
            "Epoch 7/50\n",
            "625/625 [==============================] - 23s 36ms/step - loss: 2.6184 - accuracy: 0.3313 - val_loss: 2.3636 - val_accuracy: 0.3946\n",
            "Epoch 8/50\n",
            "625/625 [==============================] - 23s 36ms/step - loss: 2.5141 - accuracy: 0.3494 - val_loss: 2.3655 - val_accuracy: 0.3997\n",
            "Epoch 9/50\n",
            "625/625 [==============================] - 23s 36ms/step - loss: 2.4144 - accuracy: 0.3707 - val_loss: 2.2187 - val_accuracy: 0.4276\n",
            "Epoch 10/50\n",
            "625/625 [==============================] - 23s 36ms/step - loss: 2.3657 - accuracy: 0.3792 - val_loss: 2.3433 - val_accuracy: 0.4013\n",
            "Epoch 11/50\n",
            "625/625 [==============================] - 23s 36ms/step - loss: 2.2698 - accuracy: 0.4026 - val_loss: 2.1374 - val_accuracy: 0.4464\n",
            "Epoch 12/50\n",
            "625/625 [==============================] - 23s 36ms/step - loss: 2.2131 - accuracy: 0.4113 - val_loss: 2.1125 - val_accuracy: 0.4525\n",
            "Epoch 13/50\n",
            "625/625 [==============================] - 23s 36ms/step - loss: 2.1784 - accuracy: 0.4220 - val_loss: 2.0366 - val_accuracy: 0.4591\n",
            "Epoch 14/50\n",
            "625/625 [==============================] - 22s 36ms/step - loss: 2.1119 - accuracy: 0.4345 - val_loss: 2.1184 - val_accuracy: 0.4451\n",
            "Epoch 15/50\n",
            "625/625 [==============================] - 23s 36ms/step - loss: 2.0696 - accuracy: 0.4450 - val_loss: 2.0704 - val_accuracy: 0.4582\n",
            "Epoch 16/50\n",
            "625/625 [==============================] - 23s 36ms/step - loss: 2.0269 - accuracy: 0.4576 - val_loss: 2.1327 - val_accuracy: 0.4514\n",
            "Epoch 17/50\n",
            "625/625 [==============================] - 23s 36ms/step - loss: 1.9827 - accuracy: 0.4633 - val_loss: 2.0694 - val_accuracy: 0.4649\n",
            "Epoch 18/50\n",
            "625/625 [==============================] - 23s 36ms/step - loss: 1.9652 - accuracy: 0.4676 - val_loss: 1.8946 - val_accuracy: 0.5004\n",
            "Epoch 19/50\n",
            "625/625 [==============================] - 23s 36ms/step - loss: 1.9057 - accuracy: 0.4811 - val_loss: 1.8928 - val_accuracy: 0.5039\n",
            "Epoch 20/50\n",
            "625/625 [==============================] - 23s 37ms/step - loss: 1.8569 - accuracy: 0.4906 - val_loss: 2.0797 - val_accuracy: 0.4797\n",
            "Epoch 21/50\n",
            "625/625 [==============================] - 23s 36ms/step - loss: 1.8402 - accuracy: 0.4964 - val_loss: 1.9305 - val_accuracy: 0.5008\n",
            "Epoch 22/50\n",
            "625/625 [==============================] - 23s 36ms/step - loss: 1.8003 - accuracy: 0.5031 - val_loss: 1.8579 - val_accuracy: 0.5146\n",
            "Epoch 23/50\n",
            "625/625 [==============================] - 23s 36ms/step - loss: 1.7702 - accuracy: 0.5127 - val_loss: 1.6265 - val_accuracy: 0.5541\n",
            "Epoch 24/50\n",
            "625/625 [==============================] - 23s 36ms/step - loss: 1.7473 - accuracy: 0.5177 - val_loss: 1.8510 - val_accuracy: 0.5219\n",
            "Epoch 25/50\n",
            "625/625 [==============================] - 23s 37ms/step - loss: 1.7094 - accuracy: 0.5223 - val_loss: 1.7698 - val_accuracy: 0.5394\n",
            "Epoch 26/50\n",
            "625/625 [==============================] - 23s 36ms/step - loss: 1.6878 - accuracy: 0.5318 - val_loss: 1.6220 - val_accuracy: 0.5603\n",
            "Epoch 27/50\n",
            "625/625 [==============================] - 23s 36ms/step - loss: 1.6575 - accuracy: 0.5397 - val_loss: 2.1896 - val_accuracy: 0.4572\n",
            "Epoch 28/50\n",
            "625/625 [==============================] - 23s 37ms/step - loss: 1.6282 - accuracy: 0.5474 - val_loss: 1.6754 - val_accuracy: 0.5545\n",
            "Epoch 29/50\n",
            "625/625 [==============================] - 23s 36ms/step - loss: 1.6188 - accuracy: 0.5519 - val_loss: 1.8320 - val_accuracy: 0.5238\n",
            "Epoch 30/50\n",
            "625/625 [==============================] - 23s 36ms/step - loss: 1.5872 - accuracy: 0.5537 - val_loss: 1.7386 - val_accuracy: 0.5454\n",
            "Epoch 31/50\n",
            "625/625 [==============================] - 23s 37ms/step - loss: 1.5616 - accuracy: 0.5633 - val_loss: 1.6707 - val_accuracy: 0.5574\n",
            "Epoch 32/50\n",
            "625/625 [==============================] - 23s 36ms/step - loss: 1.5528 - accuracy: 0.5646 - val_loss: 1.7994 - val_accuracy: 0.5369\n",
            "Epoch 33/50\n",
            "625/625 [==============================] - 23s 36ms/step - loss: 1.5190 - accuracy: 0.5728 - val_loss: 1.7463 - val_accuracy: 0.5491\n",
            "Epoch 34/50\n",
            "625/625 [==============================] - 23s 36ms/step - loss: 1.4903 - accuracy: 0.5792 - val_loss: 1.6708 - val_accuracy: 0.5623\n",
            "Epoch 35/50\n",
            "625/625 [==============================] - 23s 36ms/step - loss: 1.4775 - accuracy: 0.5803 - val_loss: 1.5845 - val_accuracy: 0.5737\n",
            "Epoch 36/50\n",
            "625/625 [==============================] - 23s 36ms/step - loss: 1.4618 - accuracy: 0.5854 - val_loss: 1.8148 - val_accuracy: 0.5373\n",
            "Epoch 37/50\n",
            "625/625 [==============================] - 23s 36ms/step - loss: 1.4447 - accuracy: 0.5881 - val_loss: 1.6982 - val_accuracy: 0.5611\n",
            "Epoch 38/50\n",
            "625/625 [==============================] - 23s 36ms/step - loss: 1.4278 - accuracy: 0.5953 - val_loss: 1.6549 - val_accuracy: 0.5713\n",
            "Epoch 39/50\n",
            "625/625 [==============================] - 23s 36ms/step - loss: 1.4056 - accuracy: 0.5995 - val_loss: 1.6573 - val_accuracy: 0.5745\n",
            "Epoch 40/50\n",
            "625/625 [==============================] - 23s 36ms/step - loss: 1.3892 - accuracy: 0.6022 - val_loss: 1.6938 - val_accuracy: 0.5712\n",
            "Epoch 41/50\n",
            "625/625 [==============================] - 23s 37ms/step - loss: 1.3731 - accuracy: 0.6047 - val_loss: 1.5262 - val_accuracy: 0.5961\n",
            "Epoch 42/50\n",
            "625/625 [==============================] - 23s 36ms/step - loss: 1.3594 - accuracy: 0.6108 - val_loss: 1.7229 - val_accuracy: 0.5621\n",
            "Epoch 43/50\n",
            "625/625 [==============================] - 23s 36ms/step - loss: 1.3273 - accuracy: 0.6163 - val_loss: 1.5845 - val_accuracy: 0.5846\n",
            "Epoch 44/50\n",
            "625/625 [==============================] - 23s 37ms/step - loss: 1.3195 - accuracy: 0.6217 - val_loss: 1.7410 - val_accuracy: 0.5505\n",
            "Epoch 45/50\n",
            "625/625 [==============================] - 23s 36ms/step - loss: 1.3125 - accuracy: 0.6238 - val_loss: 1.6229 - val_accuracy: 0.5765\n",
            "Epoch 46/50\n",
            "625/625 [==============================] - 23s 36ms/step - loss: 1.2944 - accuracy: 0.6278 - val_loss: 1.6765 - val_accuracy: 0.5766\n",
            "Epoch 47/50\n",
            "625/625 [==============================] - 23s 36ms/step - loss: 1.2812 - accuracy: 0.6303 - val_loss: 1.6863 - val_accuracy: 0.5782\n",
            "Epoch 48/50\n",
            "625/625 [==============================] - 23s 36ms/step - loss: 1.2780 - accuracy: 0.6300 - val_loss: 1.6190 - val_accuracy: 0.5866\n",
            "Epoch 49/50\n",
            "625/625 [==============================] - 23s 36ms/step - loss: 1.2659 - accuracy: 0.6351 - val_loss: 1.6888 - val_accuracy: 0.5773\n",
            "Epoch 50/50\n",
            "625/625 [==============================] - 23s 36ms/step - loss: 1.2391 - accuracy: 0.6428 - val_loss: 1.8475 - val_accuracy: 0.5553\n",
            "313/313 [==============================] - 1s 3ms/step - loss: 1.9027 - accuracy: 0.5067\n",
            "Validation accuracy: 0.5066999793052673\n"
          ]
        }
      ]
    },
    {
      "cell_type": "code",
      "source": [
        "val_loss, val_acc = model_6.evaluate(val_x, val_y)\n",
        "print('Validation accuracy:', val_acc)"
      ],
      "metadata": {
        "colab": {
          "base_uri": "https://localhost:8080/"
        },
        "id": "pGgYkNb6mctv",
        "outputId": "91d0cf41-ee9b-49f9-d69e-35c87fbbcb9b"
      },
      "execution_count": 30,
      "outputs": [
        {
          "output_type": "stream",
          "name": "stdout",
          "text": [
            "313/313 [==============================] - 1s 3ms/step - loss: 0.4643 - accuracy: 0.8586\n",
            "Validation accuracy: 0.8586000204086304\n"
          ]
        }
      ]
    },
    {
      "cell_type": "markdown",
      "source": [
        "**Top 3 Models:**\n",
        "\n",
        "\n",
        "1.   Model 6 (Val accuracy: 0.8586000204086304)\n",
        "2.   Model 5 (Val accuracy: 0.5066999793052673)\n",
        "3.   Model 4 (Val accuracy: 0.42660000920295715)\n",
        "\n"
      ],
      "metadata": {
        "id": "7up_SOhx_5rD"
      }
    },
    {
      "cell_type": "markdown",
      "source": [
        "Training **Model 6** on whole dataset"
      ],
      "metadata": {
        "id": "Jk8kQL3MWNF9"
      }
    },
    {
      "cell_type": "code",
      "source": [
        "model_6.fit(datagen.flow(x_train, y_train, batch_size=64),\n",
        "                    steps_per_epoch=len(x_train) / 64, epochs=50)"
      ],
      "metadata": {
        "colab": {
          "base_uri": "https://localhost:8080/"
        },
        "id": "dXzfoe1i7bAk",
        "outputId": "71613fdd-c0fe-4bdb-cca1-d9ab94b508c2"
      },
      "execution_count": 13,
      "outputs": [
        {
          "output_type": "stream",
          "name": "stdout",
          "text": [
            "Epoch 1/50\n",
            "781/781 [==============================] - 28s 36ms/step - loss: 1.3728 - accuracy: 0.6156\n",
            "Epoch 2/50\n",
            "781/781 [==============================] - 27s 35ms/step - loss: 1.3369 - accuracy: 0.6242\n",
            "Epoch 3/50\n",
            "781/781 [==============================] - 27s 35ms/step - loss: 1.3334 - accuracy: 0.6247\n",
            "Epoch 4/50\n",
            "781/781 [==============================] - 27s 35ms/step - loss: 1.3266 - accuracy: 0.6250\n",
            "Epoch 5/50\n",
            "781/781 [==============================] - 27s 35ms/step - loss: 1.2979 - accuracy: 0.6292\n",
            "Epoch 6/50\n",
            "781/781 [==============================] - 27s 35ms/step - loss: 1.2725 - accuracy: 0.6377\n",
            "Epoch 7/50\n",
            "781/781 [==============================] - 27s 35ms/step - loss: 1.2688 - accuracy: 0.6385\n",
            "Epoch 8/50\n",
            "781/781 [==============================] - 27s 35ms/step - loss: 1.2473 - accuracy: 0.6418\n",
            "Epoch 9/50\n",
            "781/781 [==============================] - 27s 35ms/step - loss: 1.2348 - accuracy: 0.6456\n",
            "Epoch 10/50\n",
            "781/781 [==============================] - 27s 35ms/step - loss: 1.2179 - accuracy: 0.6505\n",
            "Epoch 11/50\n",
            "781/781 [==============================] - 27s 35ms/step - loss: 1.2064 - accuracy: 0.6523\n",
            "Epoch 12/50\n",
            "781/781 [==============================] - 28s 35ms/step - loss: 1.2064 - accuracy: 0.6524\n",
            "Epoch 13/50\n",
            "781/781 [==============================] - 27s 35ms/step - loss: 1.1861 - accuracy: 0.6585\n",
            "Epoch 14/50\n",
            "781/781 [==============================] - 27s 35ms/step - loss: 1.1842 - accuracy: 0.6595\n",
            "Epoch 15/50\n",
            "781/781 [==============================] - 27s 35ms/step - loss: 1.1566 - accuracy: 0.6641\n",
            "Epoch 16/50\n",
            "781/781 [==============================] - 27s 35ms/step - loss: 1.1492 - accuracy: 0.6685\n",
            "Epoch 17/50\n",
            "781/781 [==============================] - 27s 35ms/step - loss: 1.1337 - accuracy: 0.6705\n",
            "Epoch 18/50\n",
            "781/781 [==============================] - 27s 35ms/step - loss: 1.1262 - accuracy: 0.6710\n",
            "Epoch 19/50\n",
            "781/781 [==============================] - 27s 35ms/step - loss: 1.1384 - accuracy: 0.6713\n",
            "Epoch 20/50\n",
            "781/781 [==============================] - 27s 35ms/step - loss: 1.1601 - accuracy: 0.6644\n",
            "Epoch 21/50\n",
            "781/781 [==============================] - 27s 35ms/step - loss: 1.1046 - accuracy: 0.6801\n",
            "Epoch 22/50\n",
            "781/781 [==============================] - 28s 35ms/step - loss: 1.0769 - accuracy: 0.6847\n",
            "Epoch 23/50\n",
            "781/781 [==============================] - 27s 35ms/step - loss: 1.0771 - accuracy: 0.6880\n",
            "Epoch 24/50\n",
            "781/781 [==============================] - 27s 35ms/step - loss: 1.0725 - accuracy: 0.6881\n",
            "Epoch 25/50\n",
            "781/781 [==============================] - 27s 35ms/step - loss: 1.0544 - accuracy: 0.6925\n",
            "Epoch 26/50\n",
            "781/781 [==============================] - 27s 35ms/step - loss: 1.0730 - accuracy: 0.6886\n",
            "Epoch 27/50\n",
            "781/781 [==============================] - 27s 35ms/step - loss: 1.0456 - accuracy: 0.6950\n",
            "Epoch 28/50\n",
            "781/781 [==============================] - 27s 35ms/step - loss: 1.0315 - accuracy: 0.6974\n",
            "Epoch 29/50\n",
            "781/781 [==============================] - 27s 35ms/step - loss: 1.0312 - accuracy: 0.6960\n",
            "Epoch 30/50\n",
            "781/781 [==============================] - 27s 35ms/step - loss: 1.0153 - accuracy: 0.7028\n",
            "Epoch 31/50\n",
            "781/781 [==============================] - 27s 35ms/step - loss: 1.0200 - accuracy: 0.7029\n",
            "Epoch 32/50\n",
            "781/781 [==============================] - 28s 35ms/step - loss: 1.0033 - accuracy: 0.7057\n",
            "Epoch 33/50\n",
            "781/781 [==============================] - 28s 35ms/step - loss: 0.9917 - accuracy: 0.7090\n",
            "Epoch 34/50\n",
            "781/781 [==============================] - 27s 35ms/step - loss: 1.0024 - accuracy: 0.7048\n",
            "Epoch 35/50\n",
            "781/781 [==============================] - 27s 35ms/step - loss: 0.9714 - accuracy: 0.7118\n",
            "Epoch 36/50\n",
            "781/781 [==============================] - 27s 35ms/step - loss: 0.9768 - accuracy: 0.7128\n",
            "Epoch 37/50\n",
            "781/781 [==============================] - 27s 35ms/step - loss: 0.9649 - accuracy: 0.7157\n",
            "Epoch 38/50\n",
            "781/781 [==============================] - 27s 35ms/step - loss: 0.9642 - accuracy: 0.7159\n",
            "Epoch 39/50\n",
            "781/781 [==============================] - 27s 35ms/step - loss: 0.9460 - accuracy: 0.7206\n",
            "Epoch 40/50\n",
            "781/781 [==============================] - 27s 35ms/step - loss: 0.9415 - accuracy: 0.7227\n",
            "Epoch 41/50\n",
            "781/781 [==============================] - 27s 35ms/step - loss: 0.9409 - accuracy: 0.7212\n",
            "Epoch 42/50\n",
            "781/781 [==============================] - 27s 35ms/step - loss: 0.9260 - accuracy: 0.7259\n",
            "Epoch 43/50\n",
            "781/781 [==============================] - 28s 35ms/step - loss: 0.9300 - accuracy: 0.7230\n",
            "Epoch 44/50\n",
            "781/781 [==============================] - 27s 35ms/step - loss: 0.9584 - accuracy: 0.7170\n",
            "Epoch 45/50\n",
            "781/781 [==============================] - 27s 35ms/step - loss: 0.9058 - accuracy: 0.7300\n",
            "Epoch 46/50\n",
            "781/781 [==============================] - 27s 35ms/step - loss: 0.9020 - accuracy: 0.7322\n",
            "Epoch 47/50\n",
            "781/781 [==============================] - 27s 35ms/step - loss: 0.9025 - accuracy: 0.7327\n",
            "Epoch 48/50\n",
            "781/781 [==============================] - 27s 35ms/step - loss: 0.8954 - accuracy: 0.7333\n",
            "Epoch 49/50\n",
            "781/781 [==============================] - 27s 35ms/step - loss: 0.8820 - accuracy: 0.7373\n",
            "Epoch 50/50\n",
            "781/781 [==============================] - 27s 35ms/step - loss: 0.8737 - accuracy: 0.7394\n"
          ]
        },
        {
          "output_type": "execute_result",
          "data": {
            "text/plain": [
              "<keras.callbacks.History at 0x7f2660761970>"
            ]
          },
          "metadata": {},
          "execution_count": 13
        }
      ]
    },
    {
      "cell_type": "code",
      "source": [
        "val_loss, val_acc = model_6.evaluate(x_test, y_test)\n",
        "print('Validation accuracy:', val_acc)"
      ],
      "metadata": {
        "colab": {
          "base_uri": "https://localhost:8080/"
        },
        "id": "f4C1mJr7BOqX",
        "outputId": "a0763009-163d-40b3-b01b-b461a589d385"
      },
      "execution_count": 14,
      "outputs": [
        {
          "output_type": "stream",
          "name": "stdout",
          "text": [
            "313/313 [==============================] - 1s 3ms/step - loss: 1.5166 - accuracy: 0.6269\n",
            "Validation accuracy: 0.6269000172615051\n"
          ]
        }
      ]
    },
    {
      "cell_type": "code",
      "source": [
        "model_6.save('my_model_6.h5')"
      ],
      "metadata": {
        "id": "j81uBImUXGPv"
      },
      "execution_count": 19,
      "outputs": []
    },
    {
      "cell_type": "markdown",
      "source": [
        "Training **Model 5** on whole dataset"
      ],
      "metadata": {
        "id": "BleDAjvsWgQw"
      }
    },
    {
      "cell_type": "code",
      "source": [
        "model_5.fit(datagen.flow(x_train, y_train, batch_size=64),\n",
        "                    steps_per_epoch=len(x_train) / 64, epochs=50)"
      ],
      "metadata": {
        "colab": {
          "base_uri": "https://localhost:8080/"
        },
        "id": "7J_dSXN6KyfX",
        "outputId": "a4b4bc60-7247-43fc-dac4-929003aa2f31"
      },
      "execution_count": 15,
      "outputs": [
        {
          "output_type": "stream",
          "name": "stdout",
          "text": [
            "Epoch 1/50\n",
            "781/781 [==============================] - 27s 35ms/step - loss: 2.0297 - accuracy: 0.4730\n",
            "Epoch 2/50\n",
            "781/781 [==============================] - 27s 35ms/step - loss: 2.0195 - accuracy: 0.4738\n",
            "Epoch 3/50\n",
            "781/781 [==============================] - 27s 35ms/step - loss: 2.0015 - accuracy: 0.4797\n",
            "Epoch 4/50\n",
            "781/781 [==============================] - 27s 35ms/step - loss: 1.9969 - accuracy: 0.4796\n",
            "Epoch 5/50\n",
            "781/781 [==============================] - 27s 35ms/step - loss: 2.0067 - accuracy: 0.4757\n",
            "Epoch 6/50\n",
            "781/781 [==============================] - 27s 35ms/step - loss: 1.9896 - accuracy: 0.4815\n",
            "Epoch 7/50\n",
            "781/781 [==============================] - 27s 35ms/step - loss: 1.9940 - accuracy: 0.4799\n",
            "Epoch 8/50\n",
            "781/781 [==============================] - 27s 35ms/step - loss: 1.9804 - accuracy: 0.4803\n",
            "Epoch 9/50\n",
            "781/781 [==============================] - 27s 35ms/step - loss: 1.9713 - accuracy: 0.4862\n",
            "Epoch 10/50\n",
            "781/781 [==============================] - 27s 35ms/step - loss: 1.9722 - accuracy: 0.4853\n",
            "Epoch 11/50\n",
            "781/781 [==============================] - 27s 35ms/step - loss: 1.9583 - accuracy: 0.4874\n",
            "Epoch 12/50\n",
            "781/781 [==============================] - 27s 35ms/step - loss: 1.9609 - accuracy: 0.4865\n",
            "Epoch 13/50\n",
            "781/781 [==============================] - 27s 35ms/step - loss: 1.9548 - accuracy: 0.4893\n",
            "Epoch 14/50\n",
            "781/781 [==============================] - 27s 35ms/step - loss: 1.9557 - accuracy: 0.4878\n",
            "Epoch 15/50\n",
            "781/781 [==============================] - 27s 35ms/step - loss: 1.9514 - accuracy: 0.4883\n",
            "Epoch 16/50\n",
            "781/781 [==============================] - 27s 35ms/step - loss: 1.9427 - accuracy: 0.4872\n",
            "Epoch 17/50\n",
            "781/781 [==============================] - 27s 35ms/step - loss: 1.9405 - accuracy: 0.4935\n",
            "Epoch 18/50\n",
            "781/781 [==============================] - 27s 35ms/step - loss: 1.9245 - accuracy: 0.4942\n",
            "Epoch 19/50\n",
            "781/781 [==============================] - 27s 35ms/step - loss: 1.9243 - accuracy: 0.4944\n",
            "Epoch 20/50\n",
            "781/781 [==============================] - 27s 35ms/step - loss: 1.9251 - accuracy: 0.4950\n",
            "Epoch 21/50\n",
            "781/781 [==============================] - 27s 35ms/step - loss: 1.9164 - accuracy: 0.4975\n",
            "Epoch 22/50\n",
            "781/781 [==============================] - 27s 35ms/step - loss: 1.9210 - accuracy: 0.4969\n",
            "Epoch 23/50\n",
            "781/781 [==============================] - 27s 35ms/step - loss: 1.9102 - accuracy: 0.4986\n",
            "Epoch 24/50\n",
            "781/781 [==============================] - 27s 35ms/step - loss: 1.9161 - accuracy: 0.4976\n",
            "Epoch 25/50\n",
            "781/781 [==============================] - 27s 35ms/step - loss: 1.9046 - accuracy: 0.4982\n",
            "Epoch 26/50\n",
            "781/781 [==============================] - 27s 35ms/step - loss: 1.9059 - accuracy: 0.4997\n",
            "Epoch 27/50\n",
            "781/781 [==============================] - 27s 35ms/step - loss: 1.9058 - accuracy: 0.5000\n",
            "Epoch 28/50\n",
            "781/781 [==============================] - 27s 35ms/step - loss: 1.8981 - accuracy: 0.5023\n",
            "Epoch 29/50\n",
            "781/781 [==============================] - 27s 35ms/step - loss: 1.8901 - accuracy: 0.5025\n",
            "Epoch 30/50\n",
            "781/781 [==============================] - 27s 35ms/step - loss: 1.8965 - accuracy: 0.5010\n",
            "Epoch 31/50\n",
            "781/781 [==============================] - 27s 35ms/step - loss: 1.8808 - accuracy: 0.5058\n",
            "Epoch 32/50\n",
            "781/781 [==============================] - 27s 35ms/step - loss: 1.8887 - accuracy: 0.5047\n",
            "Epoch 33/50\n",
            "781/781 [==============================] - 27s 35ms/step - loss: 1.8832 - accuracy: 0.5046\n",
            "Epoch 34/50\n",
            "781/781 [==============================] - 27s 35ms/step - loss: 1.8767 - accuracy: 0.5050\n",
            "Epoch 35/50\n",
            "781/781 [==============================] - 27s 35ms/step - loss: 1.8785 - accuracy: 0.5054\n",
            "Epoch 36/50\n",
            "781/781 [==============================] - 27s 35ms/step - loss: 1.8773 - accuracy: 0.5057\n",
            "Epoch 37/50\n",
            "781/781 [==============================] - 27s 35ms/step - loss: 1.8623 - accuracy: 0.5094\n",
            "Epoch 38/50\n",
            "781/781 [==============================] - 27s 35ms/step - loss: 1.8650 - accuracy: 0.5100\n",
            "Epoch 39/50\n",
            "781/781 [==============================] - 27s 35ms/step - loss: 1.8631 - accuracy: 0.5072\n",
            "Epoch 40/50\n",
            "781/781 [==============================] - 27s 35ms/step - loss: 1.8612 - accuracy: 0.5077\n",
            "Epoch 41/50\n",
            "781/781 [==============================] - 27s 35ms/step - loss: 1.8530 - accuracy: 0.5134\n",
            "Epoch 42/50\n",
            "781/781 [==============================] - 27s 35ms/step - loss: 1.8644 - accuracy: 0.5091\n",
            "Epoch 43/50\n",
            "781/781 [==============================] - 27s 35ms/step - loss: 1.8648 - accuracy: 0.5078\n",
            "Epoch 44/50\n",
            "781/781 [==============================] - 28s 35ms/step - loss: 1.8518 - accuracy: 0.5111\n",
            "Epoch 45/50\n",
            "781/781 [==============================] - 28s 35ms/step - loss: 1.8507 - accuracy: 0.5114\n",
            "Epoch 46/50\n",
            "781/781 [==============================] - 28s 35ms/step - loss: 1.8421 - accuracy: 0.5138\n",
            "Epoch 47/50\n",
            "781/781 [==============================] - 27s 35ms/step - loss: 1.8531 - accuracy: 0.5096\n",
            "Epoch 48/50\n",
            "781/781 [==============================] - 28s 35ms/step - loss: 1.8366 - accuracy: 0.5152\n",
            "Epoch 49/50\n",
            "781/781 [==============================] - 27s 35ms/step - loss: 1.8454 - accuracy: 0.5150\n",
            "Epoch 50/50\n",
            "781/781 [==============================] - 28s 35ms/step - loss: 1.8294 - accuracy: 0.5163\n"
          ]
        },
        {
          "output_type": "execute_result",
          "data": {
            "text/plain": [
              "<keras.callbacks.History at 0x7f26602aa6d0>"
            ]
          },
          "metadata": {},
          "execution_count": 15
        }
      ]
    },
    {
      "cell_type": "code",
      "source": [
        "val_loss, val_acc = model_5.evaluate(x_test, y_test)\n",
        "print('Validation accuracy:', val_acc)"
      ],
      "metadata": {
        "colab": {
          "base_uri": "https://localhost:8080/"
        },
        "id": "JIt_EOQ3K9pM",
        "outputId": "fdef0133-7196-437a-bc93-3488a914da41"
      },
      "execution_count": 16,
      "outputs": [
        {
          "output_type": "stream",
          "name": "stdout",
          "text": [
            "313/313 [==============================] - 1s 3ms/step - loss: 1.6840 - accuracy: 0.5591\n",
            "Validation accuracy: 0.5590999722480774\n"
          ]
        }
      ]
    },
    {
      "cell_type": "code",
      "source": [
        "model_5.save('my_model_5.h5')"
      ],
      "metadata": {
        "id": "CmVMwawQXLx6"
      },
      "execution_count": 20,
      "outputs": []
    },
    {
      "cell_type": "markdown",
      "source": [
        "Training **Model 4** on whole dataset"
      ],
      "metadata": {
        "id": "rVtJGdTWWpxX"
      }
    },
    {
      "cell_type": "code",
      "source": [
        "model_4.fit(datagen.flow(x_train, y_train, batch_size=64),\n",
        "                    steps_per_epoch=len(x_train) / 64, epochs=50)"
      ],
      "metadata": {
        "colab": {
          "base_uri": "https://localhost:8080/"
        },
        "id": "l-rvteuAQVwd",
        "outputId": "cd6eb3fe-9b28-4d01-df79-47beed832427"
      },
      "execution_count": 17,
      "outputs": [
        {
          "output_type": "stream",
          "name": "stdout",
          "text": [
            "Epoch 1/50\n",
            "781/781 [==============================] - 28s 35ms/step - loss: 2.3946 - accuracy: 0.3795\n",
            "Epoch 2/50\n",
            "781/781 [==============================] - 28s 35ms/step - loss: 2.3908 - accuracy: 0.3806\n",
            "Epoch 3/50\n",
            "781/781 [==============================] - 28s 35ms/step - loss: 2.3879 - accuracy: 0.3780\n",
            "Epoch 4/50\n",
            "781/781 [==============================] - 27s 35ms/step - loss: 2.3805 - accuracy: 0.3828\n",
            "Epoch 5/50\n",
            "781/781 [==============================] - 28s 35ms/step - loss: 2.3576 - accuracy: 0.3859\n",
            "Epoch 6/50\n",
            "781/781 [==============================] - 27s 35ms/step - loss: 2.3576 - accuracy: 0.3861\n",
            "Epoch 7/50\n",
            "781/781 [==============================] - 28s 35ms/step - loss: 2.3519 - accuracy: 0.3870\n",
            "Epoch 8/50\n",
            "781/781 [==============================] - 27s 35ms/step - loss: 2.3425 - accuracy: 0.3907\n",
            "Epoch 9/50\n",
            "781/781 [==============================] - 28s 35ms/step - loss: 2.3415 - accuracy: 0.3919\n",
            "Epoch 10/50\n",
            "781/781 [==============================] - 28s 35ms/step - loss: 2.3304 - accuracy: 0.3902\n",
            "Epoch 11/50\n",
            "781/781 [==============================] - 27s 35ms/step - loss: 2.3305 - accuracy: 0.3935\n",
            "Epoch 12/50\n",
            "781/781 [==============================] - 28s 35ms/step - loss: 2.3310 - accuracy: 0.3925\n",
            "Epoch 13/50\n",
            "781/781 [==============================] - 28s 35ms/step - loss: 2.3280 - accuracy: 0.3945\n",
            "Epoch 14/50\n",
            "781/781 [==============================] - 28s 35ms/step - loss: 2.3162 - accuracy: 0.3979\n",
            "Epoch 15/50\n",
            "781/781 [==============================] - 28s 35ms/step - loss: 2.3134 - accuracy: 0.3963\n",
            "Epoch 16/50\n",
            "781/781 [==============================] - 27s 35ms/step - loss: 2.3170 - accuracy: 0.3973\n",
            "Epoch 17/50\n",
            "781/781 [==============================] - 27s 35ms/step - loss: 2.3107 - accuracy: 0.3970\n",
            "Epoch 18/50\n",
            "781/781 [==============================] - 28s 35ms/step - loss: 2.3079 - accuracy: 0.3979\n",
            "Epoch 19/50\n",
            "781/781 [==============================] - 27s 35ms/step - loss: 2.3019 - accuracy: 0.4007\n",
            "Epoch 20/50\n",
            "781/781 [==============================] - 28s 35ms/step - loss: 2.2974 - accuracy: 0.4004\n",
            "Epoch 21/50\n",
            "781/781 [==============================] - 27s 35ms/step - loss: 2.2935 - accuracy: 0.4023\n",
            "Epoch 22/50\n",
            "781/781 [==============================] - 27s 35ms/step - loss: 2.2879 - accuracy: 0.4013\n",
            "Epoch 23/50\n",
            "781/781 [==============================] - 28s 35ms/step - loss: 2.2800 - accuracy: 0.4059\n",
            "Epoch 24/50\n",
            "781/781 [==============================] - 27s 35ms/step - loss: 2.2772 - accuracy: 0.4056\n",
            "Epoch 25/50\n",
            "781/781 [==============================] - 27s 35ms/step - loss: 2.2763 - accuracy: 0.4058\n",
            "Epoch 26/50\n",
            "781/781 [==============================] - 28s 35ms/step - loss: 2.2849 - accuracy: 0.4031\n",
            "Epoch 27/50\n",
            "781/781 [==============================] - 27s 35ms/step - loss: 2.2717 - accuracy: 0.4070\n",
            "Epoch 28/50\n",
            "781/781 [==============================] - 27s 35ms/step - loss: 2.2791 - accuracy: 0.4039\n",
            "Epoch 29/50\n",
            "781/781 [==============================] - 27s 35ms/step - loss: 2.2640 - accuracy: 0.4057\n",
            "Epoch 30/50\n",
            "781/781 [==============================] - 27s 35ms/step - loss: 2.2657 - accuracy: 0.4077\n",
            "Epoch 31/50\n",
            "781/781 [==============================] - 28s 35ms/step - loss: 2.2684 - accuracy: 0.4099\n",
            "Epoch 32/50\n",
            "781/781 [==============================] - 27s 35ms/step - loss: 2.2686 - accuracy: 0.4065\n",
            "Epoch 33/50\n",
            "781/781 [==============================] - 28s 35ms/step - loss: 2.2597 - accuracy: 0.4066\n",
            "Epoch 34/50\n",
            "781/781 [==============================] - 27s 35ms/step - loss: 2.2527 - accuracy: 0.4083\n",
            "Epoch 35/50\n",
            "781/781 [==============================] - 27s 35ms/step - loss: 2.2419 - accuracy: 0.4122\n",
            "Epoch 36/50\n",
            "781/781 [==============================] - 27s 35ms/step - loss: 2.2470 - accuracy: 0.4120\n",
            "Epoch 37/50\n",
            "781/781 [==============================] - 28s 35ms/step - loss: 2.2404 - accuracy: 0.4125\n",
            "Epoch 38/50\n",
            "781/781 [==============================] - 27s 35ms/step - loss: 2.2348 - accuracy: 0.4148\n",
            "Epoch 39/50\n",
            "781/781 [==============================] - 27s 35ms/step - loss: 2.2370 - accuracy: 0.4132\n",
            "Epoch 40/50\n",
            "781/781 [==============================] - 28s 35ms/step - loss: 2.2370 - accuracy: 0.4137\n",
            "Epoch 41/50\n",
            "781/781 [==============================] - 27s 35ms/step - loss: 2.2331 - accuracy: 0.4147\n",
            "Epoch 42/50\n",
            "781/781 [==============================] - 28s 35ms/step - loss: 2.2307 - accuracy: 0.4153\n",
            "Epoch 43/50\n",
            "781/781 [==============================] - 28s 35ms/step - loss: 2.2351 - accuracy: 0.4140\n",
            "Epoch 44/50\n",
            "781/781 [==============================] - 28s 35ms/step - loss: 2.2261 - accuracy: 0.4134\n",
            "Epoch 45/50\n",
            "781/781 [==============================] - 27s 35ms/step - loss: 2.2201 - accuracy: 0.4163\n",
            "Epoch 46/50\n",
            "781/781 [==============================] - 27s 35ms/step - loss: 2.2274 - accuracy: 0.4158\n",
            "Epoch 47/50\n",
            "781/781 [==============================] - 28s 35ms/step - loss: 2.2252 - accuracy: 0.4150\n",
            "Epoch 48/50\n",
            "781/781 [==============================] - 28s 36ms/step - loss: 2.2182 - accuracy: 0.4176\n",
            "Epoch 49/50\n",
            "781/781 [==============================] - 28s 35ms/step - loss: 2.2198 - accuracy: 0.4174\n",
            "Epoch 50/50\n",
            "781/781 [==============================] - 27s 35ms/step - loss: 2.2040 - accuracy: 0.4212\n"
          ]
        },
        {
          "output_type": "execute_result",
          "data": {
            "text/plain": [
              "<keras.callbacks.History at 0x7f266076ccd0>"
            ]
          },
          "metadata": {},
          "execution_count": 17
        }
      ]
    },
    {
      "cell_type": "code",
      "source": [
        "val_loss, val_acc = model_4.evaluate(x_test, y_test)\n",
        "print('Validation accuracy:', val_acc)"
      ],
      "metadata": {
        "colab": {
          "base_uri": "https://localhost:8080/"
        },
        "id": "gy6dnq7iQfiq",
        "outputId": "db7b990d-64c2-45d8-c366-48c8622b6586"
      },
      "execution_count": 18,
      "outputs": [
        {
          "output_type": "stream",
          "name": "stdout",
          "text": [
            "313/313 [==============================] - 1s 3ms/step - loss: 1.8562 - accuracy: 0.4956\n",
            "Validation accuracy: 0.49559998512268066\n"
          ]
        }
      ]
    },
    {
      "cell_type": "code",
      "source": [
        "model_4.save('my_model_4.h5')"
      ],
      "metadata": {
        "id": "95IFSSz1VyJD"
      },
      "execution_count": 21,
      "outputs": []
    },
    {
      "cell_type": "markdown",
      "source": [
        "Plotting the Models"
      ],
      "metadata": {
        "id": "MbDXLeACXfAI"
      }
    },
    {
      "cell_type": "code",
      "source": [
        "from keras.utils import plot_model"
      ],
      "metadata": {
        "id": "S56jSaGsXd_z"
      },
      "execution_count": 22,
      "outputs": []
    },
    {
      "cell_type": "code",
      "source": [
        "plot_model(model_6,to_file='model_6.png')"
      ],
      "metadata": {
        "colab": {
          "base_uri": "https://localhost:8080/",
          "height": 1000
        },
        "id": "Qlj8OyruXQFE",
        "outputId": "5fc31ae4-2de1-4f8b-d87c-561515733757"
      },
      "execution_count": 23,
      "outputs": [
        {
          "output_type": "execute_result",
          "data": {
            "image/png": "[encoded data removed]",
            "text/plain": [
              "<IPython.core.display.Image object>"
            ]
          },
          "metadata": {},
          "execution_count": 23
        }
      ]
    },
    {
      "cell_type": "code",
      "source": [
        "plot_model(model_5,to_file='model_5.png')"
      ],
      "metadata": {
        "colab": {
          "base_uri": "https://localhost:8080/",
          "height": 1000
        },
        "id": "u_aD8L1XXv_A",
        "outputId": "403f6933-7eb1-43e8-d191-47e66325b8d7"
      },
      "execution_count": 24,
      "outputs": [
        {
          "output_type": "execute_result",
          "data": {
            "image/png": "[encoded data removed]",
            "text/plain": [
              "<IPython.core.display.Image object>"
            ]
          },
          "metadata": {},
          "execution_count": 24
        }
      ]
    },
    {
      "cell_type": "code",
      "source": [
        "plot_model(model_4,to_file='model_4.png')"
      ],
      "metadata": {
        "colab": {
          "base_uri": "https://localhost:8080/",
          "height": 1000
        },
        "id": "xOuGju3RYAx_",
        "outputId": "b3cd3614-905b-4503-ba82-517e2c4bad5f"
      },
      "execution_count": 25,
      "outputs": [
        {
          "output_type": "execute_result",
          "data": {
            "image/png": "[encoded data removed]",
            "text/plain": [
              "<IPython.core.display.Image object>"
            ]
          },
          "metadata": {},
          "execution_count": 25
        }
      ]
    },
    {
      "cell_type": "code",
      "source": [
        "model_6.summary()"
      ],
      "metadata": {
        "colab": {
          "base_uri": "https://localhost:8080/"
        },
        "id": "hci0gO_CYKoo",
        "outputId": "2b52d446-5b7c-4ab8-ba41-d439485992cc"
      },
      "execution_count": 27,
      "outputs": [
        {
          "output_type": "stream",
          "name": "stdout",
          "text": [
            "Model: \"sequential_4\"\n",
            "_________________________________________________________________\n",
            " Layer (type)                Output Shape              Param #   \n",
            "=================================================================\n",
            " conv2d_10 (Conv2D)          (None, 32, 32, 32)        896       \n",
            "                                                                 \n",
            " conv2d_11 (Conv2D)          (None, 30, 30, 64)        18496     \n",
            "                                                                 \n",
            " batch_normalization_15 (Bat  (None, 30, 30, 64)       256       \n",
            " chNormalization)                                                \n",
            "                                                                 \n",
            " max_pooling2d_8 (MaxPooling  (None, 15, 15, 64)       0         \n",
            " 2D)                                                             \n",
            "                                                                 \n",
            " dropout_15 (Dropout)        (None, 15, 15, 64)        0         \n",
            "                                                                 \n",
            " conv2d_12 (Conv2D)          (None, 15, 15, 128)       73856     \n",
            "                                                                 \n",
            " conv2d_13 (Conv2D)          (None, 15, 15, 256)       295168    \n",
            "                                                                 \n",
            " conv2d_14 (Conv2D)          (None, 15, 15, 512)       1180160   \n",
            "                                                                 \n",
            " batch_normalization_16 (Bat  (None, 15, 15, 512)      2048      \n",
            " chNormalization)                                                \n",
            "                                                                 \n",
            " max_pooling2d_9 (MaxPooling  (None, 7, 7, 512)        0         \n",
            " 2D)                                                             \n",
            "                                                                 \n",
            " dropout_16 (Dropout)        (None, 7, 7, 512)         0         \n",
            "                                                                 \n",
            " flatten_4 (Flatten)         (None, 25088)             0         \n",
            "                                                                 \n",
            " dense_11 (Dense)            (None, 512)               12845568  \n",
            "                                                                 \n",
            " batch_normalization_17 (Bat  (None, 512)              2048      \n",
            " chNormalization)                                                \n",
            "                                                                 \n",
            " dense_12 (Dense)            (None, 256)               131328    \n",
            "                                                                 \n",
            " dropout_17 (Dropout)        (None, 256)               0         \n",
            "                                                                 \n",
            " dense_13 (Dense)            (None, 100)               25700     \n",
            "                                                                 \n",
            "=================================================================\n",
            "Total params: 14,575,524\n",
            "Trainable params: 14,573,348\n",
            "Non-trainable params: 2,176\n",
            "_________________________________________________________________\n"
          ]
        }
      ]
    },
    {
      "cell_type": "code",
      "source": [
        "model_5.summary()"
      ],
      "metadata": {
        "colab": {
          "base_uri": "https://localhost:8080/"
        },
        "id": "1FgUyVCwdI-B",
        "outputId": "d6731446-5ee7-4112-bfc2-9d5a4346a702"
      },
      "execution_count": 28,
      "outputs": [
        {
          "output_type": "stream",
          "name": "stdout",
          "text": [
            "Model: \"sequential_3\"\n",
            "_________________________________________________________________\n",
            " Layer (type)                Output Shape              Param #   \n",
            "=================================================================\n",
            " conv2d_6 (Conv2D)           (None, 32, 32, 32)        896       \n",
            "                                                                 \n",
            " conv2d_7 (Conv2D)           (None, 30, 30, 32)        9248      \n",
            "                                                                 \n",
            " batch_normalization_12 (Bat  (None, 30, 30, 32)       128       \n",
            " chNormalization)                                                \n",
            "                                                                 \n",
            " max_pooling2d_6 (MaxPooling  (None, 15, 15, 32)       0         \n",
            " 2D)                                                             \n",
            "                                                                 \n",
            " dropout_12 (Dropout)        (None, 15, 15, 32)        0         \n",
            "                                                                 \n",
            " conv2d_8 (Conv2D)           (None, 15, 15, 64)        18496     \n",
            "                                                                 \n",
            " conv2d_9 (Conv2D)           (None, 13, 13, 64)        36928     \n",
            "                                                                 \n",
            " batch_normalization_13 (Bat  (None, 13, 13, 64)       256       \n",
            " chNormalization)                                                \n",
            "                                                                 \n",
            " max_pooling2d_7 (MaxPooling  (None, 6, 6, 64)         0         \n",
            " 2D)                                                             \n",
            "                                                                 \n",
            " dropout_13 (Dropout)        (None, 6, 6, 64)          0         \n",
            "                                                                 \n",
            " flatten_3 (Flatten)         (None, 2304)              0         \n",
            "                                                                 \n",
            " dense_9 (Dense)             (None, 512)               1180160   \n",
            "                                                                 \n",
            " batch_normalization_14 (Bat  (None, 512)              2048      \n",
            " chNormalization)                                                \n",
            "                                                                 \n",
            " dropout_14 (Dropout)        (None, 512)               0         \n",
            "                                                                 \n",
            " dense_10 (Dense)            (None, 100)               51300     \n",
            "                                                                 \n",
            "=================================================================\n",
            "Total params: 1,299,460\n",
            "Trainable params: 1,298,244\n",
            "Non-trainable params: 1,216\n",
            "_________________________________________________________________\n"
          ]
        }
      ]
    },
    {
      "cell_type": "code",
      "source": [
        "model_4.summary()"
      ],
      "metadata": {
        "colab": {
          "base_uri": "https://localhost:8080/"
        },
        "id": "P40fRLnkdXWf",
        "outputId": "8f62ce94-d692-4e90-a52a-68bfe762d145"
      },
      "execution_count": 29,
      "outputs": [
        {
          "output_type": "stream",
          "name": "stdout",
          "text": [
            "Model: \"sequential_2\"\n",
            "_________________________________________________________________\n",
            " Layer (type)                Output Shape              Param #   \n",
            "=================================================================\n",
            " conv2d_4 (Conv2D)           (None, 30, 30, 32)        896       \n",
            "                                                                 \n",
            " batch_normalization_8 (Batc  (None, 30, 30, 32)       128       \n",
            " hNormalization)                                                 \n",
            "                                                                 \n",
            " max_pooling2d_4 (MaxPooling  (None, 15, 15, 32)       0         \n",
            " 2D)                                                             \n",
            "                                                                 \n",
            " dropout_8 (Dropout)         (None, 15, 15, 32)        0         \n",
            "                                                                 \n",
            " conv2d_5 (Conv2D)           (None, 13, 13, 64)        18496     \n",
            "                                                                 \n",
            " batch_normalization_9 (Batc  (None, 13, 13, 64)       256       \n",
            " hNormalization)                                                 \n",
            "                                                                 \n",
            " max_pooling2d_5 (MaxPooling  (None, 6, 6, 64)         0         \n",
            " 2D)                                                             \n",
            "                                                                 \n",
            " dropout_9 (Dropout)         (None, 6, 6, 64)          0         \n",
            "                                                                 \n",
            " flatten_2 (Flatten)         (None, 2304)              0         \n",
            "                                                                 \n",
            " dense_6 (Dense)             (None, 512)               1180160   \n",
            "                                                                 \n",
            " batch_normalization_10 (Bat  (None, 512)              2048      \n",
            " chNormalization)                                                \n",
            "                                                                 \n",
            " dropout_10 (Dropout)        (None, 512)               0         \n",
            "                                                                 \n",
            " dense_7 (Dense)             (None, 256)               131328    \n",
            "                                                                 \n",
            " batch_normalization_11 (Bat  (None, 256)              1024      \n",
            " chNormalization)                                                \n",
            "                                                                 \n",
            " dropout_11 (Dropout)        (None, 256)               0         \n",
            "                                                                 \n",
            " dense_8 (Dense)             (None, 100)               25700     \n",
            "                                                                 \n",
            "=================================================================\n",
            "Total params: 1,360,036\n",
            "Trainable params: 1,358,308\n",
            "Non-trainable params: 1,728\n",
            "_________________________________________________________________\n"
          ]
        }
      ]
    },
    {
      "cell_type": "code",
      "source": [],
      "metadata": {
        "id": "AP2Bv-uNdZZI"
      },
      "execution_count": null,
      "outputs": []
    }
  ]
}