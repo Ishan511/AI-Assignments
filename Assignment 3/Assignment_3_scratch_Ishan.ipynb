{
 "cells": [
  {
   "cell_type": "code",
   "execution_count": 1,
   "metadata": {},
   "outputs": [],
   "source": [
    "# Generating a toy dataset.\n",
    "# DO NOT MODIFY THIS PART\n",
    "\n",
    "import numpy as np\n",
    "import math\n",
    "import random as rand\n",
    "\n",
    "paras = list((rand.random() - 0.5 for _ in range(9)))\n",
    "\n",
    "def y_gen(x):\n",
    "    h_11 = math.tanh(paras[0] * x[0] + paras[1] * x[1] + paras[2])\n",
    "    h_12 = math.tanh(paras[3] * x[0] + paras[4] * x[1] + paras[5])\n",
    "    h_21 = 1/(1 + np.exp(-(paras[6] * h_11 + paras[7] * h_12 + paras[8])))\n",
    "    return h_21 + ((rand.random()-0.5)/100 if rand.random()>0.6 else 0)\n",
    "\n",
    "n = 300\n",
    "x = list(zip((rand.random() - 0.5 for _ in range(n)), (rand.random() - 0.5 for _ in range(n))))\n",
    "y = list(map(y_gen, x))\n",
    "y = [(i-min(y))/(max(y)-min(y)) for i in y]"
   ]
  },
  {
   "cell_type": "code",
   "execution_count": 2,
   "metadata": {},
   "outputs": [],
   "source": [
    "# Spliting dataset into training, validation, and test.\n",
    "# DO NOT MODIFY THIS PART\n",
    "\n",
    "from sklearn.model_selection import train_test_split\n",
    "\n",
    "r = 0.25\n",
    "x_train, x_test, y_train, y_test = train_test_split(x, y, test_size=r)\n",
    "\n",
    "x_val = x_train[:int(n*r)]\n",
    "partial_x_train = x_train[int(n*r):]\n",
    "y_val = y_train[:int(n*r)]\n",
    "partial_y_train = y_train[int(n*r):]"
   ]
  },
  {
   "cell_type": "markdown",
   "metadata": {},
   "source": [
    "*** Write down your answer here ***\n",
    "\n",
    "Formula of bias for layer 2\n",
    "\n",
    "$$\\frac{\\partial L}{\\partial b^2} = ({\\hat{y}} - y) * (h^2_{1}(1 - h^2_{1})) * 1$$\n",
    "\n",
    "Formula of weights of layer 2\n",
    "$$\\frac{\\partial L}{\\partial \\vec{w}^{\\,(2)}} = \\begin{bmatrix}\n",
    "\\frac{\\partial L}{\\partial w^2_{11}}\\\\\n",
    "\\frac{\\partial L}{\\partial w^2_{21}}\n",
    "\\end{bmatrix} = \\begin{bmatrix} (\\hat{y} - y^2) * h^2_{1}(1 - h^2_{1} * h^1_{1})\\\\(\\hat{y} - y) * h^2_{1}(1 - h^2_{1} * h^1_{2}) \\end{bmatrix}\n",
    "$$\n",
    "\n",
    "Formula of biases of layer 1\n",
    "$$\\frac{\\partial L}{\\partial \\vec{b}^{\\,(1)}} =\\begin{bmatrix}\n",
    "\\frac{\\partial L}{\\partial b^1_1}\\\\\n",
    "\\frac{\\partial L}{\\partial b^1_2}\n",
    "\\end{bmatrix} = \\begin{bmatrix} (\\hat{y} - y) * h^2_{1}(1 - h^2_{1}) * h^1_{1} * (1 - (h^1_{1})^2) * 1\\\\(\\hat{y} - y) * h^2_{1}(1 - h^2_{1}) * h^1_{2} * (1 - (h^1_{2})^2) * 1 \\end{bmatrix}\n",
    "$$\n",
    "\n",
    "Formula of weights of layer 1\n",
    "$$\n",
    "\\frac{\\partial L}{\\partial \\vec{W}^{\\,(1)}} =\\begin{bmatrix}\n",
    "\\frac{\\partial L}{\\partial w^1_{11}} & \\frac{\\partial L}{\\partial w^1_{12}}\\\\\n",
    "\\frac{\\partial L}{\\partial w^1_{21}} & \\frac{\\partial L}{\\partial w^1_{22}}\n",
    "\\end{bmatrix} = \\begin{bmatrix} (\\hat{y} - y) * h^2_{1}(1 - h^2_{1}) * h^1_{1} * (1 - (h^1_{1})^2) * h^0_{1}&(\\hat{y} - y) * h^2_{1}(1 - h^2_{1}) * h^1_{2} * (1 - (h^1_{2})^2) * h^0_{1} \\\\(\\hat{y} - y) * h^2_{1}(1 - h^2_{1}) * h^1_{1} * (1 - (h^1_{1})^2) * h^0_{2}&(\\hat{y} - y) * h^2_{1}(1 - h^2_{1}) * h^1_{2} * (1 - (h^1_{2})^2) * h^0_{2}\\end{bmatrix}\n",
    "$$"
   ]
  },
  {
   "cell_type": "code",
   "execution_count": 3,
   "metadata": {},
   "outputs": [],
   "source": [
    "partial_x_train=np.asarray(partial_x_train)\n",
    "partial_y_train = np.asarray(partial_y_train)\n",
    "x_val = np.asarray(x_val)\n",
    "y_val = np.asarray(y_val)"
   ]
  },
  {
   "cell_type": "code",
   "execution_count": 4,
   "metadata": {},
   "outputs": [
    {
     "name": "stdout",
     "output_type": "stream",
     "text": [
      "partial_x_train:  (150, 2)\n",
      "partial_y_train:  (150,)\n",
      "x_val:  (75, 2)\n",
      "y_val:  (75,)\n"
     ]
    }
   ],
   "source": [
    "print(\"partial_x_train: \",partial_x_train.shape)\n",
    "print(\"partial_y_train: \",partial_y_train.shape)\n",
    "print(\"x_val: \",x_val.shape)\n",
    "print(\"y_val: \",y_val.shape)"
   ]
  },
  {
   "cell_type": "code",
   "execution_count": 5,
   "metadata": {},
   "outputs": [
    {
     "name": "stdout",
     "output_type": "stream",
     "text": [
      "(150, 1)\n"
     ]
    }
   ],
   "source": [
    "partial_y_train = partial_y_train.reshape(150, 1)\n",
    "print(partial_y_train.shape)"
   ]
  },
  {
   "cell_type": "code",
   "execution_count": 6,
   "metadata": {},
   "outputs": [
    {
     "name": "stdout",
     "output_type": "stream",
     "text": [
      "(75, 1)\n"
     ]
    }
   ],
   "source": [
    "y_val = y_val.reshape(y_val.shape[0], 1)\n",
    "print(y_val.shape)"
   ]
  },
  {
   "cell_type": "code",
   "execution_count": 7,
   "metadata": {},
   "outputs": [],
   "source": [
    "W1 = np.random.randn(2,2)\n",
    "b1 = np.zeros((1,2))\n",
    "W2 = np.random.randn(2,1)\n",
    "b2 = np.zeros((1,1))"
   ]
  },
  {
   "cell_type": "code",
   "execution_count": 8,
   "metadata": {},
   "outputs": [],
   "source": [
    "def tanh(x):\n",
    "    return np.tanh(x)\n",
    "def sigmoid(x):\n",
    "    return 1 / (1 + np.exp(-x))"
   ]
  },
  {
   "cell_type": "code",
   "execution_count": 9,
   "metadata": {},
   "outputs": [],
   "source": [
    "def forward_prop(x):\n",
    "    #Z1=W1.dot(x) + b1\n",
    "    Z1=np.dot(x,W1) + b1\n",
    "    #print(\"Z1: \",Z1.shape)\n",
    "    #x=x.reshape(1,2)\n",
    "    #x = np.array(x).reshape(1, 2)\n",
    "    #Z1 = np.dot(x,W1) + b1\n",
    "    A1=tanh(Z1)\n",
    "    #print(\"A1: \",A1.shape)\n",
    "    Z2=np.dot(A1,W2) + b2\n",
    "    #print(\"Z2: \",Z2.shape)\n",
    "    A2=sigmoid(Z2)\n",
    "    #print(\"A2: \",A2.shape)\n",
    "    return Z1,A1,Z2,A2"
   ]
  },
  {
   "cell_type": "code",
   "execution_count": 10,
   "metadata": {},
   "outputs": [],
   "source": [
    "def back_prop(Z1,A1,Z2,A2,x,y,alpha=0.01):\n",
    "    D2=A2-y\n",
    "    DW2 = np.dot(A1.T,D2) \n",
    "    DB2 = np.sum(D2,axis=0)\n",
    "    global W1, W2,b1,b2\n",
    "    D1 = (1-np.square(A1))*np.dot(D2,W2.T) \n",
    "    DW1 = np.dot(x.T,D1)  \n",
    "    DB1 = np.sum(D1,axis=0)\n",
    "    W1 = W1 - alpha*DW1\n",
    "    b1 = b1 - alpha*DB1\n",
    "    W2 = W2 - alpha*DW2\n",
    "    b2 = b2 - alpha*DB2\n",
    "    return W1,b1,W2,b2"
   ]
  },
  {
   "cell_type": "code",
   "execution_count": 11,
   "metadata": {},
   "outputs": [],
   "source": [
    "def loss(y, p):\n",
    "#     n = len(y)\n",
    "    mse = np.sum((y - p) ** 2) / n\n",
    "#     print(mse)\n",
    "    return mse"
   ]
  },
  {
   "cell_type": "code",
   "execution_count": 12,
   "metadata": {},
   "outputs": [],
   "source": [
    "def train(X_train, Y_train, X_val, Y_val, epochs, logs=True):\n",
    "    train_losses, val_losses = [], []\n",
    "    for i in range(epochs):\n",
    "        Z1,A1,Z2,A2 = forward_prop(X_train)\n",
    "        train_loss = loss(Y_train, A2)\n",
    "        train_losses.append(train_loss)\n",
    "        #print(W1,W2)\n",
    "        W1,b1,W2,b2=back_prop(Z1,A1,Z2,A2,X_train, Y_train)\n",
    "        #print(W1,W2)\n",
    "        Z1,A1,Z2,A2 = forward_prop(X_val)\n",
    "        #print(A2.shape)\n",
    "        val_loss = loss(Y_val, A2)\n",
    "        val_losses.append(val_loss)\n",
    "        if logs and i % 10 == 0:\n",
    "            print(\"Itertion:\", i)\n",
    "            print(\"Train Loss: %.4f - Val Loss: %.4f\", (train_loss, val_loss))\n",
    "#             train_losses.append(train_loss)\n",
    "#             val_losses.append(val_loss)\n",
    "    \n",
    "    history_dict= {}\n",
    "    history_dict['train_l'] = train_losses\n",
    "    history_dict['val_l'] = val_losses\n",
    "    \n",
    "    return history_dict, A2"
   ]
  },
  {
   "cell_type": "code",
   "execution_count": 13,
   "metadata": {},
   "outputs": [
    {
     "name": "stdout",
     "output_type": "stream",
     "text": [
      "Itertion: 0\n",
      "Train Loss: %.4f - Val Loss: %.4f (0.00850517161642057, 0.01878829533348107)\n",
      "Itertion: 10\n",
      "Train Loss: %.4f - Val Loss: %.4f (0.0042144454119714585, 0.009772619017154014)\n",
      "Itertion: 20\n",
      "Train Loss: %.4f - Val Loss: %.4f (0.002339660827192885, 0.005641136687818246)\n",
      "Itertion: 30\n",
      "Train Loss: %.4f - Val Loss: %.4f (0.001408354975959116, 0.0035079321445726924)\n",
      "Itertion: 40\n",
      "Train Loss: %.4f - Val Loss: %.4f (0.0009633283214833614, 0.002457523150600188)\n",
      "Itertion: 50\n",
      "Train Loss: %.4f - Val Loss: %.4f (0.0007656551636654585, 0.0019674601649194907)\n",
      "Itertion: 60\n",
      "Train Loss: %.4f - Val Loss: %.4f (0.0006821858264545682, 0.0017416703395546167)\n",
      "Itertion: 70\n",
      "Train Loss: %.4f - Val Loss: %.4f (0.0006469150465506188, 0.0016331223666292108)\n",
      "Itertion: 80\n",
      "Train Loss: %.4f - Val Loss: %.4f (0.0006306289115538058, 0.0015755192622881246)\n",
      "Itertion: 90\n",
      "Train Loss: %.4f - Val Loss: %.4f (0.0006214255869934194, 0.0015404428590394643)\n",
      "Itertion: 100\n",
      "Train Loss: %.4f - Val Loss: %.4f (0.0006147587557744547, 0.001515889900484864)\n",
      "Itertion: 110\n",
      "Train Loss: %.4f - Val Loss: %.4f (0.000608997571865713, 0.001496711915845023)\n",
      "Itertion: 120\n",
      "Train Loss: %.4f - Val Loss: %.4f (0.0006036027319020847, 0.0014806005955564734)\n",
      "Itertion: 130\n",
      "Train Loss: %.4f - Val Loss: %.4f (0.0005984183711090523, 0.001466444130341786)\n",
      "Itertion: 140\n",
      "Train Loss: %.4f - Val Loss: %.4f (0.0005934106639815241, 0.0014536558044457772)\n",
      "Itertion: 150\n",
      "Train Loss: %.4f - Val Loss: %.4f (0.0005885772247217195, 0.001441894743993349)\n",
      "Itertion: 160\n",
      "Train Loss: %.4f - Val Loss: %.4f (0.0005839189354578565, 0.0014309451200816502)\n",
      "Itertion: 170\n",
      "Train Loss: %.4f - Val Loss: %.4f (0.0005794332208034853, 0.001420660612248123)\n",
      "Itertion: 180\n",
      "Train Loss: %.4f - Val Loss: %.4f (0.0005751138935513931, 0.0014109367975437975)\n",
      "Itertion: 190\n",
      "Train Loss: %.4f - Val Loss: %.4f (0.0005709524905964736, 0.001401696209975125)\n",
      "Itertion: 200\n",
      "Train Loss: %.4f - Val Loss: %.4f (0.000566939556319746, 0.0013928795989905471)\n",
      "Itertion: 210\n",
      "Train Loss: %.4f - Val Loss: %.4f (0.0005630655348721639, 0.0013844404810070615)\n",
      "Itertion: 220\n",
      "Train Loss: %.4f - Val Loss: %.4f (0.0005593212965854197, 0.0013763415792927816)\n",
      "Itertion: 230\n",
      "Train Loss: %.4f - Val Loss: %.4f (0.0005556984020674407, 0.001368552415963478)\n",
      "Itertion: 240\n",
      "Train Loss: %.4f - Val Loss: %.4f (0.0005521891998328156, 0.0013610476398599302)\n",
      "Itertion: 250\n",
      "Train Loss: %.4f - Val Loss: %.4f (0.0005487868272470187, 0.0013538058400989427)\n",
      "Itertion: 260\n",
      "Train Loss: %.4f - Val Loss: %.4f (0.0005454851605189052, 0.0013468086879927102)\n",
      "Itertion: 270\n",
      "Train Loss: %.4f - Val Loss: %.4f (0.0005422787418052158, 0.001340040305300257)\n",
      "Itertion: 280\n",
      "Train Loss: %.4f - Val Loss: %.4f (0.0005391626997004893, 0.0013334867911456785)\n",
      "Itertion: 290\n",
      "Train Loss: %.4f - Val Loss: %.4f (0.0005361326719464906, 0.0013271358619658343)\n",
      "Itertion: 300\n",
      "Train Loss: %.4f - Val Loss: %.4f (0.000533184734691952, 0.0013209765732579016)\n",
      "Itertion: 310\n",
      "Train Loss: %.4f - Val Loss: %.4f (0.0005303153400130658, 0.001314999101460818)\n",
      "Itertion: 320\n",
      "Train Loss: %.4f - Val Loss: %.4f (0.0005275212619518393, 0.001309194570729349)\n",
      "Itertion: 330\n",
      "Train Loss: %.4f - Val Loss: %.4f (0.000524799550578988, 0.0013035549137243286)\n",
      "Itertion: 340\n",
      "Train Loss: %.4f - Val Loss: %.4f (0.0005221474932486954, 0.0012980727585419146)\n",
      "Itertion: 350\n",
      "Train Loss: %.4f - Val Loss: %.4f (0.000519562582105061, 0.0012927413359911614)\n",
      "Itertion: 360\n",
      "Train Loss: %.4f - Val Loss: %.4f (0.0005170424869164736, 0.001287554402899853)\n",
      "Itertion: 370\n",
      "Train Loss: %.4f - Val Loss: %.4f (0.0005145850323910944, 0.0012825061781796818)\n",
      "Itertion: 380\n",
      "Train Loss: %.4f - Val Loss: %.4f (0.0005121881792278391, 0.0012775912891442398)\n",
      "Itertion: 390\n",
      "Train Loss: %.4f - Val Loss: %.4f (0.0005098500082628936, 0.001272804726134266)\n",
      "Itertion: 400\n",
      "Train Loss: %.4f - Val Loss: %.4f (0.000507568707171619, 0.0012681418039234798)\n",
      "Itertion: 410\n",
      "Train Loss: %.4f - Val Loss: %.4f (0.0005053425592751967, 0.0012635981286953373)\n",
      "Itertion: 420\n",
      "Train Loss: %.4f - Val Loss: %.4f (0.0005031699340789461, 0.0012591695696240752)\n",
      "Itertion: 430\n",
      "Train Loss: %.4f - Val Loss: %.4f (0.0005010492792351734, 0.0012548522342818692)\n",
      "Itertion: 440\n",
      "Train Loss: %.4f - Val Loss: %.4f (0.0004989791136786114, 0.0012506424472416388)\n",
      "Itertion: 450\n",
      "Train Loss: %.4f - Val Loss: %.4f (0.0004969580217282769, 0.0012465367313617764)\n",
      "Itertion: 460\n",
      "Train Loss: %.4f - Val Loss: %.4f (0.0004949846479873146, 0.001242531791332157)\n",
      "Itertion: 470\n",
      "Train Loss: %.4f - Val Loss: %.4f (0.0004930576929032991, 0.0012386244991354582)\n",
      "Itertion: 480\n",
      "Train Loss: %.4f - Val Loss: %.4f (0.0004911759088767723, 0.0012348118811380889)\n",
      "Itertion: 490\n",
      "Train Loss: %.4f - Val Loss: %.4f (0.0004893380968263983, 0.001231091106573913)\n",
      "Itertion: 500\n",
      "Train Loss: %.4f - Val Loss: %.4f (0.0004875431031359386, 0.0012274594772237904)\n",
      "Itertion: 510\n",
      "Train Loss: %.4f - Val Loss: %.4f (0.00048578981692190976, 0.0012239144181265436)\n",
      "Itertion: 520\n",
      "Train Loss: %.4f - Val Loss: %.4f (0.0004840771675719175, 0.0012204534691836624)\n",
      "Itertion: 530\n",
      "Train Loss: %.4f - Val Loss: %.4f (0.0004824041225127206, 0.0012170742775421133)\n",
      "Itertion: 540\n",
      "Train Loss: %.4f - Val Loss: %.4f (0.0004807696851744292, 0.0012137745906577364)\n",
      "Itertion: 550\n",
      "Train Loss: %.4f - Val Loss: %.4f (0.0004791728931232438, 0.0012105522499567857)\n",
      "Itertion: 560\n",
      "Train Loss: %.4f - Val Loss: %.4f (0.00047761281634001976, 0.0012074051850255944)\n",
      "Itertion: 570\n",
      "Train Loss: %.4f - Val Loss: %.4f (0.00047608855562589924, 0.001204331408268764)\n",
      "Itertion: 580\n",
      "Train Loss: %.4f - Val Loss: %.4f (0.00047459924111950715, 0.0012013290099848924)\n",
      "Itertion: 590\n",
      "Train Loss: %.4f - Val Loss: %.4f (0.0004731440309128269, 0.0011983961538160704)\n",
      "Itertion: 600\n",
      "Train Loss: %.4f - Val Loss: %.4f (0.0004717221097550227, 0.0011955310725334414)\n",
      "Itertion: 610\n",
      "Train Loss: %.4f - Val Loss: %.4f (0.00047033268783523875, 0.0011927320641261887)\n",
      "Itertion: 620\n",
      "Train Loss: %.4f - Val Loss: %.4f (0.0004689749996368098, 0.0011899974881655734)\n",
      "Itertion: 630\n",
      "Train Loss: %.4f - Val Loss: %.4f (0.000467648302856515, 0.0011873257624192613)\n",
      "Itertion: 640\n",
      "Train Loss: %.4f - Val Loss: %.4f (0.00046635187738343234, 0.0011847153596942224)\n",
      "Itertion: 650\n",
      "Train Loss: %.4f - Val Loss: %.4f (0.00046508502433274546, 0.0011821648048890609)\n",
      "Itertion: 660\n",
      "Train Loss: %.4f - Val Loss: %.4f (0.00046384706513049006, 0.0011796726722388485)\n",
      "Itertion: 670\n",
      "Train Loss: %.4f - Val Loss: %.4f (0.0004626373406457443, 0.001177237582737402)\n",
      "Itertion: 680\n",
      "Train Loss: %.4f - Val Loss: %.4f (0.00046145521036719815, 0.001174858201723547)\n",
      "Itertion: 690\n",
      "Train Loss: %.4f - Val Loss: %.4f (0.0004603000516213987, 0.001172533236619305)\n",
      "Itertion: 700\n",
      "Train Loss: %.4f - Val Loss: %.4f (0.0004591712588302401, 0.00117026143480913)\n",
      "Itertion: 710\n",
      "Train Loss: %.4f - Val Loss: %.4f (0.0004580682428055291, 0.0011680415816503384)\n",
      "Itertion: 720\n",
      "Train Loss: %.4f - Val Loss: %.4f (0.0004569904300786387, 0.0011658724986057948)\n",
      "Itertion: 730\n",
      "Train Loss: %.4f - Val Loss: %.4f (0.00045593726226344567, 0.0011637530414906826)\n",
      "Itertion: 740\n",
      "Train Loss: %.4f - Val Loss: %.4f (0.00045490819545087046, 0.0011616820988258883)\n",
      "Itertion: 750\n",
      "Train Loss: %.4f - Val Loss: %.4f (0.0004539026996334802, 0.0011596585902911283)\n",
      "Itertion: 760\n",
      "Train Loss: %.4f - Val Loss: %.4f (0.0004529202581586873, 0.0011576814652714755)\n",
      "Itertion: 770\n",
      "Train Loss: %.4f - Val Loss: %.4f (0.0004519603672091963, 0.0011557497014914452)\n",
      "Itertion: 780\n",
      "Train Loss: %.4f - Val Loss: %.4f (0.000451022535309397, 0.0011538623037311941)\n",
      "Itertion: 790\n",
      "Train Loss: %.4f - Val Loss: %.4f (0.0004501062828564944, 0.001152018302619798)\n",
      "Itertion: 800\n",
      "Train Loss: %.4f - Val Loss: %.4f (0.00044921114167520345, 0.00115021675350089)\n",
      "Itertion: 810\n",
      "Train Loss: %.4f - Val Loss: %.4f (0.00044833665459491215, 0.0011484567353662871)\n",
      "Itertion: 820\n",
      "Train Loss: %.4f - Val Loss: %.4f (0.00044748237504824476, 0.0011467373498534842)\n",
      "Itertion: 830\n",
      "Train Loss: %.4f - Val Loss: %.4f (0.0004466478666900171, 0.0011450577203031846)\n",
      "Itertion: 840\n",
      "Train Loss: %.4f - Val Loss: %.4f (0.0004458327030356087, 0.0011434169908732432)\n",
      "Itertion: 850\n",
      "Train Loss: %.4f - Val Loss: %.4f (0.0004450364671178192, 0.0011418143257056522)\n",
      "Itertion: 860\n",
      "Train Loss: %.4f - Val Loss: %.4f (0.0004442587511613157, 0.0011402489081433712)\n",
      "Itertion: 870\n",
      "Train Loss: %.4f - Val Loss: %.4f (0.0004434991562738059, 0.0011387199399940048)\n",
      "Itertion: 880\n",
      "Train Loss: %.4f - Val Loss: %.4f (0.0004427572921531134, 0.0011372266408375185)\n",
      "Itertion: 890\n",
      "Train Loss: %.4f - Val Loss: %.4f (0.0004420327768093592, 0.0011357682473753133)\n",
      "Itertion: 900\n",
      "Train Loss: %.4f - Val Loss: %.4f (0.0004413252363014855, 0.0011343440128181624)\n",
      "Itertion: 910\n",
      "Train Loss: %.4f - Val Loss: %.4f (0.0004406343044873891, 0.0011329532063106432)\n",
      "Itertion: 920\n",
      "Train Loss: %.4f - Val Loss: %.4f (0.00043995962278696124, 0.0011315951123898231)\n",
      "Itertion: 930\n",
      "Train Loss: %.4f - Val Loss: %.4f (0.00043930083995735584, 0.0011302690304761005)\n",
      "Itertion: 940\n",
      "Train Loss: %.4f - Val Loss: %.4f (0.0004386576118798413, 0.0011289742743942016)\n",
      "Itertion: 950\n",
      "Train Loss: %.4f - Val Loss: %.4f (0.00043802960135761246, 0.0011277101719224631)\n",
      "Itertion: 960\n",
      "Train Loss: %.4f - Val Loss: %.4f (0.00043741647792396835, 0.001126476064368616)\n",
      "Itertion: 970\n",
      "Train Loss: %.4f - Val Loss: %.4f (0.0004368179176602875, 0.0011252713061704006)\n",
      "Itertion: 980\n",
      "Train Loss: %.4f - Val Loss: %.4f (0.00043623360302325157, 0.0011240952645194277)\n",
      "Itertion: 990\n",
      "Train Loss: %.4f - Val Loss: %.4f (0.0004356632226808039, 0.0011229473190067967)\n"
     ]
    }
   ],
   "source": [
    "history_dict, A2 = train(x_val,y_val,partial_x_train,partial_y_train,1000,0.01)"
   ]
  },
  {
   "cell_type": "code",
   "execution_count": 14,
   "metadata": {},
   "outputs": [],
   "source": [
    "Z1,A1,Z2,Final_A2=forward_prop(x_test)"
   ]
  },
  {
   "cell_type": "code",
   "execution_count": 15,
   "metadata": {},
   "outputs": [
    {
     "data": {
      "image/png": "[encoded data removed]",
      "text/plain": [
       "<Figure size 640x480 with 1 Axes>"
      ]
     },
     "metadata": {},
     "output_type": "display_data"
    },
    {
     "data": {
      "text/plain": [
       "<matplotlib.collections.PathCollection at 0x7f9ac3182be0>"
      ]
     },
     "execution_count": 15,
     "metadata": {},
     "output_type": "execute_result"
    },
    {
     "data": {
      "image/png": "[encoded data removed]",
      "text/plain": [
       "<Figure size 640x480 with 1 Axes>"
      ]
     },
     "metadata": {},
     "output_type": "display_data"
    }
   ],
   "source": [
    "import matplotlib.pyplot as plt\n",
    "\n",
    "epochs = range(1, len(history_dict['train_l']) + 1)\n",
    "\n",
    "plt.plot(epochs, history_dict['train_l'], 'bo', label='Training loss')\n",
    "plt.plot(epochs, history_dict['val_l'], 'b', label='Validation loss')\n",
    "plt.title('Training and validation loss')\n",
    "plt.xlabel('Epochs')\n",
    "plt.ylabel('Loss')\n",
    "plt.legend()\n",
    "plt.show()\n",
    "\n",
    "plt.title('Scatter Plot')\n",
    "plt.xlabel('True')\n",
    "plt.ylabel('Predict')\n",
    "#print(\"y_test\",len(y_test))\n",
    "#print(\"A2\",len(A2))\n",
    "plt.scatter(y_test, Final_A2)"
   ]
  },
  {
   "cell_type": "code",
   "execution_count": 16,
   "metadata": {
    "id": "B1td-EhoIB3N"
   },
   "outputs": [
    {
     "data": {
      "text/plain": [
       "\"from keras import models\\nfrom keras import layers\\n\\nmodel = models.Sequential()\\nmodel.add(layers.Dense(2, activation='tanh', input_shape=(2,)))\\nmodel.add(layers.Dense(1, activation='sigmoid'))\\nmodel.compile(optimizer='sgd', loss='mse')\\nhistory = model.fit(partial_x_train, partial_y_train, epochs=100, batch_size=1, validation_data=(x_val, y_val))\\nhistory_dict = history.history\\n\\n# Your program should store the training loss and the validation loss for each epoch\\n# A list of traing losses -> loss_values\\n# A list of validation losses -> val_loss_values\\nloss_values = history_dict['loss']\\nval_loss_values = history_dict['val_loss']\\n\\n# Your program should return the prediction for a given input.\\ny_pred = model.predict(x_test)\""
      ]
     },
     "execution_count": 16,
     "metadata": {},
     "output_type": "execute_result"
    }
   ],
   "source": [
    "# Replace this part with your own code without using any deep learning library\n",
    "\n",
    "\"\"\"from keras import models\n",
    "from keras import layers\n",
    "\n",
    "model = models.Sequential()\n",
    "model.add(layers.Dense(2, activation='tanh', input_shape=(2,)))\n",
    "model.add(layers.Dense(1, activation='sigmoid'))\n",
    "model.compile(optimizer='sgd', loss='mse')\n",
    "history = model.fit(partial_x_train, partial_y_train, epochs=100, batch_size=1, validation_data=(x_val, y_val))\n",
    "history_dict = history.history\n",
    "\n",
    "# Your program should store the training loss and the validation loss for each epoch\n",
    "# A list of traing losses -> loss_values\n",
    "# A list of validation losses -> val_loss_values\n",
    "loss_values = history_dict['loss']\n",
    "val_loss_values = history_dict['val_loss']\n",
    "\n",
    "# Your program should return the prediction for a given input.\n",
    "y_pred = model.predict(x_test)\"\"\"\n"
   ]
  },
  {
   "cell_type": "code",
   "execution_count": null,
   "metadata": {},
   "outputs": [],
   "source": []
  }
 ],
 "metadata": {
  "colab": {
   "collapsed_sections": [],
   "name": "Assignment 3 scratch.ipynb",
   "provenance": []
  },
  "kernelspec": {
   "display_name": "Python 3 (ipykernel)",
   "language": "python",
   "name": "python3"
  },
  "language_info": {
   "codemirror_mode": {
    "name": "ipython",
    "version": 3
   },
   "file_extension": ".py",
   "mimetype": "text/x-python",
   "name": "python",
   "nbconvert_exporter": "python",
   "pygments_lexer": "ipython3",
   "version": "3.9.13"
  }
 },
 "nbformat": 4,
 "nbformat_minor": 1
}
